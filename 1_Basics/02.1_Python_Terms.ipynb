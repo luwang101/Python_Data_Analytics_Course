{
  "cells": [
    {
      "cell_type": "markdown",
      "id": "7d9726ec",
      "metadata": {
        "id": "7d9726ec"
      },
      "source": [
        "<a target=\"_blank\" href=\"https://colab.research.google.com/github/lukebarousse/Python_Data_Analytics_Course/blob/main/1_Basics/02.1_Python_Terms.ipynb\">\n",
        "  <img src=\"https://colab.research.google.com/assets/colab-badge.svg\" alt=\"Open In Colab\"/>\n",
        "</a>"
      ]
    },
    {
      "cell_type": "markdown",
      "id": "121fe821",
      "metadata": {
        "id": "121fe821"
      },
      "source": [
        "## Python Terms\n",
        "\n",
        "#### Terms to know:\n",
        "- **Object**\n",
        "- **Variable**\n",
        "- **Function**\n",
        "- **Class**\n",
        "- **Method**\n",
        "- **Attribute**"
      ]
    },
    {
      "cell_type": "markdown",
      "id": "c1ea1f9e",
      "metadata": {
        "id": "c1ea1f9e"
      },
      "source": [
        "### Objects: The Data Records 对象，编程是一种面向对象的语言\n",
        "\n",
        "**数据，字段和函数**\n",
        "\n",
        "In data analytics, an object is like a record in your spreadsheet. Each record can have multiple fields, such as job title, location, and salary.\n",
        "\n",
        "**Object**: A data record with fields; an instance of a class.\n"
      ]
    },
    {
      "cell_type": "code",
      "execution_count": null,
      "id": "e0ff7c37",
      "metadata": {
        "id": "e0ff7c37",
        "outputId": "b7d4aafc-f06f-4a32-8699-5de207424531"
      },
      "outputs": [
        {
          "data": {
            "text/plain": [
              "90000"
            ]
          },
          "execution_count": 40,
          "metadata": {},
          "output_type": "execute_result"
        }
      ],
      "source": [
        "90000  # this is an object"
      ]
    },
    {
      "cell_type": "code",
      "execution_count": null,
      "id": "968ee59f",
      "metadata": {
        "id": "968ee59f",
        "outputId": "220df345-abb8-4607-aef2-6b283e631d00"
      },
      "outputs": [
        {
          "data": {
            "text/plain": [
              "'Data Analyst'"
            ]
          },
          "execution_count": 41,
          "metadata": {},
          "output_type": "execute_result"
        }
      ],
      "source": [
        "\"Data Analyst\" # this is also an object"
      ]
    },
    {
      "cell_type": "markdown",
      "id": "c184687a",
      "metadata": {
        "id": "c184687a"
      },
      "source": [
        "Python is object-oriented, so even the data types are objects."
      ]
    },
    {
      "cell_type": "code",
      "execution_count": null,
      "id": "34181ac4",
      "metadata": {
        "id": "34181ac4",
        "outputId": "a7490421-6bee-4e93-a68d-63575bff710e"
      },
      "outputs": [
        {
          "data": {
            "text/plain": [
              "str"
            ]
          },
          "execution_count": 42,
          "metadata": {},
          "output_type": "execute_result"
        }
      ],
      "source": [
        "type(\"Data Analyst\") # this shows that this is an instance of the class 'str'"
      ]
    },
    {
      "cell_type": "code",
      "execution_count": null,
      "id": "e93b1046",
      "metadata": {
        "id": "e93b1046",
        "outputId": "d797cc22-f23e-43e7-a1c6-a62c532dee5d"
      },
      "outputs": [
        {
          "data": {
            "text/plain": [
              "str"
            ]
          },
          "execution_count": 43,
          "metadata": {},
          "output_type": "execute_result"
        }
      ],
      "source": [
        "str # technically, this is an object too! as it's an instance of the class 'type'"
      ]
    },
    {
      "cell_type": "code",
      "execution_count": null,
      "id": "d8068875",
      "metadata": {
        "id": "d8068875",
        "outputId": "4554d088-64fa-4a60-ec83-04509ed564e3"
      },
      "outputs": [
        {
          "data": {
            "text/plain": [
              "type"
            ]
          },
          "execution_count": 44,
          "metadata": {},
          "output_type": "execute_result"
        }
      ],
      "source": [
        "type(str)"
      ]
    },
    {
      "cell_type": "markdown",
      "id": "1ef640ba",
      "metadata": {
        "id": "1ef640ba"
      },
      "source": [
        "Functions are also objects in Python."
      ]
    },
    {
      "cell_type": "code",
      "execution_count": null,
      "id": "4d55db87",
      "metadata": {
        "id": "4d55db87",
        "outputId": "40d71226-01b5-43db-bb06-a0b785b59c34"
      },
      "outputs": [
        {
          "name": "stdout",
          "output_type": "stream",
          "text": [
            "\n"
          ]
        }
      ],
      "source": [
        "print()"
      ]
    },
    {
      "cell_type": "code",
      "execution_count": 1,
      "id": "aaa5da4b",
      "metadata": {
        "id": "aaa5da4b",
        "outputId": "e2326141-1ed5-4bd9-8e85-98a8308234fd",
        "colab": {
          "base_uri": "https://localhost:8080/"
        }
      },
      "outputs": [
        {
          "output_type": "execute_result",
          "data": {
            "text/plain": [
              "builtin_function_or_method"
            ]
          },
          "metadata": {},
          "execution_count": 1
        }
      ],
      "source": [
        "type(print)"
      ]
    },
    {
      "cell_type": "markdown",
      "source": [],
      "metadata": {
        "id": "lQw1I-dA7dOH"
      },
      "id": "lQw1I-dA7dOH"
    },
    {
      "cell_type": "markdown",
      "id": "fe74bb60",
      "metadata": {
        "id": "fe74bb60"
      },
      "source": [
        "### Variables: The Reference to Objects 变量，给变量赋值\n",
        "\n",
        "Think of a variable as a cell in an Excel spreadsheet. You can store data in it, like a number, text, or a formula.\n",
        "\n",
        "**Variable**: A defined name that references an object."
      ]
    },
    {
      "cell_type": "code",
      "execution_count": null,
      "id": "0fb0d189",
      "metadata": {
        "id": "0fb0d189"
      },
      "outputs": [],
      "source": [
        "job_title = \"Data Analyst\"\n",
        "job_salary = 90000\n",
        "my_print_function = print"
      ]
    },
    {
      "cell_type": "code",
      "execution_count": null,
      "id": "5199770e",
      "metadata": {
        "id": "5199770e",
        "outputId": "895dc570-62ec-4f26-b848-8318edd0f8cd"
      },
      "outputs": [
        {
          "name": "stdout",
          "output_type": "stream",
          "text": [
            "Data Analyst 90000\n"
          ]
        }
      ],
      "source": [
        "my_print_function(job_title, job_salary)"
      ]
    },
    {
      "cell_type": "code",
      "execution_count": null,
      "id": "a03cbbf0",
      "metadata": {
        "id": "a03cbbf0",
        "outputId": "5589d1f6-eff0-46c2-d1dc-711a2c3b341a"
      },
      "outputs": [
        {
          "data": {
            "text/plain": [
              "(4681519792, 4595465424, 4525184544)"
            ]
          },
          "execution_count": 49,
          "metadata": {},
          "output_type": "execute_result"
        }
      ],
      "source": [
        "# each variable has a unique identifier\n",
        "id(job_title), id(job_salary), id(my_print_function),"
      ]
    },
    {
      "cell_type": "markdown",
      "id": "864e8619",
      "metadata": {
        "id": "864e8619"
      },
      "source": [
        "Variables that reference the same object are... the same."
      ]
    },
    {
      "cell_type": "code",
      "execution_count": null,
      "id": "4b917379",
      "metadata": {
        "id": "4b917379",
        "outputId": "7a154a26-1547-45b6-eeff-936094ebd10f"
      },
      "outputs": [
        {
          "data": {
            "text/plain": [
              "'Data Analyst'"
            ]
          },
          "execution_count": 50,
          "metadata": {},
          "output_type": "execute_result"
        }
      ],
      "source": [
        "lukes_job = job_title\n",
        "\n",
        "lukes_job"
      ]
    },
    {
      "cell_type": "code",
      "execution_count": null,
      "id": "fc07b63c",
      "metadata": {
        "id": "fc07b63c",
        "outputId": "e4fefced-295b-40e7-d8ea-acaf0abdb347"
      },
      "outputs": [
        {
          "data": {
            "text/plain": [
              "(4681519792, 4681519792)"
            ]
          },
          "execution_count": 51,
          "metadata": {},
          "output_type": "execute_result"
        }
      ],
      "source": [
        "# the id of the same object is the same\n",
        "id(job_title), id(lukes_job)"
      ]
    },
    {
      "cell_type": "markdown",
      "id": "f367a47d",
      "metadata": {
        "id": "f367a47d"
      },
      "source": [
        "However, variables that may look the same, but reference different objects are... different."
      ]
    },
    {
      "cell_type": "code",
      "execution_count": null,
      "id": "a5aa7f31",
      "metadata": {
        "id": "a5aa7f31",
        "outputId": "723b3680-6a47-4866-8785-7968ba623c17"
      },
      "outputs": [
        {
          "data": {
            "text/plain": [
              "(4681523504, 4681384880)"
            ]
          },
          "execution_count": 52,
          "metadata": {},
          "output_type": "execute_result"
        }
      ],
      "source": [
        "job_title1 = \"Data Analyst\"\n",
        "job_title2 = \"Data Analyst\"\n",
        "\n",
        "# the id of the same object is the same\n",
        "id(job_title1), id(job_title2)"
      ]
    },
    {
      "cell_type": "markdown",
      "id": "c246c6c4",
      "metadata": {
        "id": "c246c6c4"
      },
      "source": [
        "### Functions: The Manipulators of Objects 函数，用于建立变量之间的关系，输出结果\n",
        "\n",
        "Functions are like custom formulas in Excel. They perform tasks that can be applied to different sets of data.\n",
        "\n",
        "**Function**: A reusable piece of code that performs a specific task."
      ]
    },
    {
      "cell_type": "markdown",
      "id": "325b4fb8",
      "metadata": {
        "id": "325b4fb8"
      },
      "source": [
        "The `print()` we saw already is a function."
      ]
    },
    {
      "cell_type": "code",
      "execution_count": null,
      "id": "2c21a898",
      "metadata": {
        "id": "2c21a898",
        "outputId": "e8f9ab0f-ff7c-448c-baa6-738cf40ed108"
      },
      "outputs": [
        {
          "name": "stdout",
          "output_type": "stream",
          "text": [
            "What's up, Data Nerds!\n"
          ]
        }
      ],
      "source": [
        "# provide functions arguments to print in parenthesis\n",
        "print(\"What's up, Data Nerds!\")"
      ]
    },
    {
      "cell_type": "markdown",
      "id": "3d192b12",
      "metadata": {
        "id": "3d192b12"
      },
      "source": [
        "I could make this into a function:"
      ]
    },
    {
      "cell_type": "code",
      "execution_count": null,
      "id": "2b8e4685",
      "metadata": {
        "id": "2b8e4685"
      },
      "outputs": [],
      "source": [
        "def greet():\n",
        "    return \"What's up, Data Nerds!\""
      ]
    },
    {
      "cell_type": "code",
      "execution_count": null,
      "id": "ad74e3c2",
      "metadata": {
        "id": "ad74e3c2",
        "outputId": "e94d086c-c9ae-4ec4-a2db-472fcc345793"
      },
      "outputs": [
        {
          "data": {
            "text/plain": [
              "\"What's up, Data Nerds!\""
            ]
          },
          "execution_count": 55,
          "metadata": {},
          "output_type": "execute_result"
        }
      ],
      "source": [
        "greet()"
      ]
    },
    {
      "cell_type": "markdown",
      "id": "03389c5d",
      "metadata": {
        "id": "03389c5d"
      },
      "source": [
        "Here's a custom built function that prints our job info nicely:"
      ]
    },
    {
      "cell_type": "code",
      "execution_count": 2,
      "id": "66b6ee25",
      "metadata": {
        "id": "66b6ee25"
      },
      "outputs": [],
      "source": [
        "def display_info(title, location, salary):\n",
        "    return print(f\"JOB:       {title}\\nLOCATION:  {location}\\nSALARY:    ${salary:,.0f}\")"
      ]
    },
    {
      "cell_type": "markdown",
      "source": [
        "               #用函数及变量定义关系"
      ],
      "metadata": {
        "id": "1XN6Ojc29wei"
      },
      "id": "1XN6Ojc29wei"
    },
    {
      "cell_type": "code",
      "execution_count": null,
      "id": "a453263c",
      "metadata": {
        "id": "a453263c",
        "outputId": "eaf4d244-fb5c-4ba4-bb5e-e5e9d980e94a"
      },
      "outputs": [
        {
          "name": "stdout",
          "output_type": "stream",
          "text": [
            "JOB:       Data Analyst\n",
            "LOCATION:  United States\n",
            "SALARY:    $90,000\n"
          ]
        }
      ],
      "source": [
        "job_title = \"Data Analyst\"\n",
        "job_location = \"United States\"\n",
        "job_salary = 90000\n",
        "\n",
        "display_info(job_title, job_location, job_salary)"
      ]
    },
    {
      "cell_type": "markdown",
      "source": [
        "            #输入具体的对象对定义的关系进行验证并且输出结果"
      ],
      "metadata": {
        "id": "pXCI3fpi-FRC"
      },
      "id": "pXCI3fpi-FRC"
    },
    {
      "cell_type": "markdown",
      "id": "b7fb6cbf",
      "metadata": {
        "id": "b7fb6cbf"
      },
      "source": [
        "### Classes: The Template of Objects  将一系列定义的函数和变量进行组合\n",
        "\n",
        "A class is like a template for your records in Excel. It defines the fields that each record will have.\n",
        "\n",
        "**Class**: A template for creating objects (records).\n"
      ]
    },
    {
      "cell_type": "code",
      "execution_count": null,
      "id": "2cfd7804",
      "metadata": {
        "id": "2cfd7804"
      },
      "outputs": [],
      "source": [
        "class JobPost:\n",
        "    def __init__(self, title, location, salary):\n",
        "        self.title = title\n",
        "        self.location = location\n",
        "        self.salary = salary\n",
        "\n",
        "    def display_info(self):\n",
        "        return print(f\"JOB:       {self.title}\\nLOCATION:  {self.location}\\nSALARY:    ${self.salary:,.0f}\")"
      ]
    },
    {
      "cell_type": "code",
      "execution_count": null,
      "id": "d0f7b6c5",
      "metadata": {
        "id": "d0f7b6c5",
        "outputId": "d0f01047-ec06-434a-a754-cd8b63b64794"
      },
      "outputs": [
        {
          "data": {
            "text/plain": [
              "__main__.JobPost"
            ]
          },
          "execution_count": 59,
          "metadata": {},
          "output_type": "execute_result"
        }
      ],
      "source": [
        "JobPost"
      ]
    },
    {
      "cell_type": "markdown",
      "id": "ab6c2389",
      "metadata": {
        "id": "ab6c2389"
      },
      "source": [
        "In the next lessons we'll be covering data types which are built with classes."
      ]
    },
    {
      "cell_type": "code",
      "execution_count": null,
      "id": "9796df59",
      "metadata": {
        "id": "9796df59",
        "outputId": "283f5611-acfc-42c7-c817-cbdffb6ca48f"
      },
      "outputs": [
        {
          "data": {
            "text/plain": [
              "str"
            ]
          },
          "execution_count": 60,
          "metadata": {},
          "output_type": "execute_result"
        }
      ],
      "source": [
        "type(\"What's up, Data Nerds!\")"
      ]
    },
    {
      "cell_type": "markdown",
      "id": "ecd688ab",
      "metadata": {
        "id": "ecd688ab"
      },
      "source": [
        "Help function shows class string's documentation."
      ]
    },
    {
      "cell_type": "code",
      "execution_count": null,
      "id": "ee9c97c9",
      "metadata": {
        "id": "ee9c97c9",
        "outputId": "56a05d99-e6dd-44b2-9dd3-0c41027eac51"
      },
      "outputs": [
        {
          "name": "stdout",
          "output_type": "stream",
          "text": [
            "Help on class str in module builtins:\n",
            "\n",
            "class str(object)\n",
            " |  str(object='') -> str\n",
            " |  str(bytes_or_buffer[, encoding[, errors]]) -> str\n",
            " |  \n",
            " |  Create a new string object from the given object. If encoding or\n",
            " |  errors is specified, then the object must expose a data buffer\n",
            " |  that will be decoded using the given encoding and error handler.\n",
            " |  Otherwise, returns the result of object.__str__() (if defined)\n",
            " |  or repr(object).\n",
            " |  encoding defaults to sys.getdefaultencoding().\n",
            " |  errors defaults to 'strict'.\n",
            " |  \n",
            " |  Methods defined here:\n",
            " |  \n",
            " |  __add__(self, value, /)\n",
            " |      Return self+value.\n",
            " |  \n",
            " |  __contains__(self, key, /)\n",
            " |      Return key in self.\n",
            " |  \n",
            " |  __eq__(self, value, /)\n",
            " |      Return self==value.\n",
            " |  \n",
            " |  __format__(self, format_spec, /)\n",
            " |      Return a formatted version of the string as described by format_spec.\n",
            " |  \n",
            " |  __ge__(self, value, /)\n",
            " |      Return self>=value.\n",
            " |  \n",
            " |  __getattribute__(self, name, /)\n",
            " |      Return getattr(self, name).\n",
            " |  \n",
            " |  __getitem__(self, key, /)\n",
            " |      Return self[key].\n",
            " |  \n",
            " |  __getnewargs__(...)\n",
            " |  \n",
            " |  __gt__(self, value, /)\n",
            " |      Return self>value.\n",
            " |  \n",
            " |  __hash__(self, /)\n",
            " |      Return hash(self).\n",
            " |  \n",
            " |  __iter__(self, /)\n",
            " |      Implement iter(self).\n",
            " |  \n",
            " |  __le__(self, value, /)\n",
            " |      Return self<=value.\n",
            " |  \n",
            " |  __len__(self, /)\n",
            " |      Return len(self).\n",
            " |  \n",
            " |  __lt__(self, value, /)\n",
            " |      Return self<value.\n",
            " |  \n",
            " |  __mod__(self, value, /)\n",
            " |      Return self%value.\n",
            " |  \n",
            " |  __mul__(self, value, /)\n",
            " |      Return self*value.\n",
            " |  \n",
            " |  __ne__(self, value, /)\n",
            " |      Return self!=value.\n",
            " |  \n",
            " |  __repr__(self, /)\n",
            " |      Return repr(self).\n",
            " |  \n",
            " |  __rmod__(self, value, /)\n",
            " |      Return value%self.\n",
            " |  \n",
            " |  __rmul__(self, value, /)\n",
            " |      Return value*self.\n",
            " |  \n",
            " |  __sizeof__(self, /)\n",
            " |      Return the size of the string in memory, in bytes.\n",
            " |  \n",
            " |  __str__(self, /)\n",
            " |      Return str(self).\n",
            " |  \n",
            " |  capitalize(self, /)\n",
            " |      Return a capitalized version of the string.\n",
            " |      \n",
            " |      More specifically, make the first character have upper case and the rest lower\n",
            " |      case.\n",
            " |  \n",
            " |  casefold(self, /)\n",
            " |      Return a version of the string suitable for caseless comparisons.\n",
            " |  \n",
            " |  center(self, width, fillchar=' ', /)\n",
            " |      Return a centered string of length width.\n",
            " |      \n",
            " |      Padding is done using the specified fill character (default is a space).\n",
            " |  \n",
            " |  count(...)\n",
            " |      S.count(sub[, start[, end]]) -> int\n",
            " |      \n",
            " |      Return the number of non-overlapping occurrences of substring sub in\n",
            " |      string S[start:end].  Optional arguments start and end are\n",
            " |      interpreted as in slice notation.\n",
            " |  \n",
            " |  encode(self, /, encoding='utf-8', errors='strict')\n",
            " |      Encode the string using the codec registered for encoding.\n",
            " |      \n",
            " |      encoding\n",
            " |        The encoding in which to encode the string.\n",
            " |      errors\n",
            " |        The error handling scheme to use for encoding errors.\n",
            " |        The default is 'strict' meaning that encoding errors raise a\n",
            " |        UnicodeEncodeError.  Other possible values are 'ignore', 'replace' and\n",
            " |        'xmlcharrefreplace' as well as any other name registered with\n",
            " |        codecs.register_error that can handle UnicodeEncodeErrors.\n",
            " |  \n",
            " |  endswith(...)\n",
            " |      S.endswith(suffix[, start[, end]]) -> bool\n",
            " |      \n",
            " |      Return True if S ends with the specified suffix, False otherwise.\n",
            " |      With optional start, test S beginning at that position.\n",
            " |      With optional end, stop comparing S at that position.\n",
            " |      suffix can also be a tuple of strings to try.\n",
            " |  \n",
            " |  expandtabs(self, /, tabsize=8)\n",
            " |      Return a copy where all tab characters are expanded using spaces.\n",
            " |      \n",
            " |      If tabsize is not given, a tab size of 8 characters is assumed.\n",
            " |  \n",
            " |  find(...)\n",
            " |      S.find(sub[, start[, end]]) -> int\n",
            " |      \n",
            " |      Return the lowest index in S where substring sub is found,\n",
            " |      such that sub is contained within S[start:end].  Optional\n",
            " |      arguments start and end are interpreted as in slice notation.\n",
            " |      \n",
            " |      Return -1 on failure.\n",
            " |  \n",
            " |  format(...)\n",
            " |      S.format(*args, **kwargs) -> str\n",
            " |      \n",
            " |      Return a formatted version of S, using substitutions from args and kwargs.\n",
            " |      The substitutions are identified by braces ('{' and '}').\n",
            " |  \n",
            " |  format_map(...)\n",
            " |      S.format_map(mapping) -> str\n",
            " |      \n",
            " |      Return a formatted version of S, using substitutions from mapping.\n",
            " |      The substitutions are identified by braces ('{' and '}').\n",
            " |  \n",
            " |  index(...)\n",
            " |      S.index(sub[, start[, end]]) -> int\n",
            " |      \n",
            " |      Return the lowest index in S where substring sub is found,\n",
            " |      such that sub is contained within S[start:end].  Optional\n",
            " |      arguments start and end are interpreted as in slice notation.\n",
            " |      \n",
            " |      Raises ValueError when the substring is not found.\n",
            " |  \n",
            " |  isalnum(self, /)\n",
            " |      Return True if the string is an alpha-numeric string, False otherwise.\n",
            " |      \n",
            " |      A string is alpha-numeric if all characters in the string are alpha-numeric and\n",
            " |      there is at least one character in the string.\n",
            " |  \n",
            " |  isalpha(self, /)\n",
            " |      Return True if the string is an alphabetic string, False otherwise.\n",
            " |      \n",
            " |      A string is alphabetic if all characters in the string are alphabetic and there\n",
            " |      is at least one character in the string.\n",
            " |  \n",
            " |  isascii(self, /)\n",
            " |      Return True if all characters in the string are ASCII, False otherwise.\n",
            " |      \n",
            " |      ASCII characters have code points in the range U+0000-U+007F.\n",
            " |      Empty string is ASCII too.\n",
            " |  \n",
            " |  isdecimal(self, /)\n",
            " |      Return True if the string is a decimal string, False otherwise.\n",
            " |      \n",
            " |      A string is a decimal string if all characters in the string are decimal and\n",
            " |      there is at least one character in the string.\n",
            " |  \n",
            " |  isdigit(self, /)\n",
            " |      Return True if the string is a digit string, False otherwise.\n",
            " |      \n",
            " |      A string is a digit string if all characters in the string are digits and there\n",
            " |      is at least one character in the string.\n",
            " |  \n",
            " |  isidentifier(self, /)\n",
            " |      Return True if the string is a valid Python identifier, False otherwise.\n",
            " |      \n",
            " |      Call keyword.iskeyword(s) to test whether string s is a reserved identifier,\n",
            " |      such as \"def\" or \"class\".\n",
            " |  \n",
            " |  islower(self, /)\n",
            " |      Return True if the string is a lowercase string, False otherwise.\n",
            " |      \n",
            " |      A string is lowercase if all cased characters in the string are lowercase and\n",
            " |      there is at least one cased character in the string.\n",
            " |  \n",
            " |  isnumeric(self, /)\n",
            " |      Return True if the string is a numeric string, False otherwise.\n",
            " |      \n",
            " |      A string is numeric if all characters in the string are numeric and there is at\n",
            " |      least one character in the string.\n",
            " |  \n",
            " |  isprintable(self, /)\n",
            " |      Return True if the string is printable, False otherwise.\n",
            " |      \n",
            " |      A string is printable if all of its characters are considered printable in\n",
            " |      repr() or if it is empty.\n",
            " |  \n",
            " |  isspace(self, /)\n",
            " |      Return True if the string is a whitespace string, False otherwise.\n",
            " |      \n",
            " |      A string is whitespace if all characters in the string are whitespace and there\n",
            " |      is at least one character in the string.\n",
            " |  \n",
            " |  istitle(self, /)\n",
            " |      Return True if the string is a title-cased string, False otherwise.\n",
            " |      \n",
            " |      In a title-cased string, upper- and title-case characters may only\n",
            " |      follow uncased characters and lowercase characters only cased ones.\n",
            " |  \n",
            " |  isupper(self, /)\n",
            " |      Return True if the string is an uppercase string, False otherwise.\n",
            " |      \n",
            " |      A string is uppercase if all cased characters in the string are uppercase and\n",
            " |      there is at least one cased character in the string.\n",
            " |  \n",
            " |  join(self, iterable, /)\n",
            " |      Concatenate any number of strings.\n",
            " |      \n",
            " |      The string whose method is called is inserted in between each given string.\n",
            " |      The result is returned as a new string.\n",
            " |      \n",
            " |      Example: '.'.join(['ab', 'pq', 'rs']) -> 'ab.pq.rs'\n",
            " |  \n",
            " |  ljust(self, width, fillchar=' ', /)\n",
            " |      Return a left-justified string of length width.\n",
            " |      \n",
            " |      Padding is done using the specified fill character (default is a space).\n",
            " |  \n",
            " |  lower(self, /)\n",
            " |      Return a copy of the string converted to lowercase.\n",
            " |  \n",
            " |  lstrip(self, chars=None, /)\n",
            " |      Return a copy of the string with leading whitespace removed.\n",
            " |      \n",
            " |      If chars is given and not None, remove characters in chars instead.\n",
            " |  \n",
            " |  partition(self, sep, /)\n",
            " |      Partition the string into three parts using the given separator.\n",
            " |      \n",
            " |      This will search for the separator in the string.  If the separator is found,\n",
            " |      returns a 3-tuple containing the part before the separator, the separator\n",
            " |      itself, and the part after it.\n",
            " |      \n",
            " |      If the separator is not found, returns a 3-tuple containing the original string\n",
            " |      and two empty strings.\n",
            " |  \n",
            " |  removeprefix(self, prefix, /)\n",
            " |      Return a str with the given prefix string removed if present.\n",
            " |      \n",
            " |      If the string starts with the prefix string, return string[len(prefix):].\n",
            " |      Otherwise, return a copy of the original string.\n",
            " |  \n",
            " |  removesuffix(self, suffix, /)\n",
            " |      Return a str with the given suffix string removed if present.\n",
            " |      \n",
            " |      If the string ends with the suffix string and that suffix is not empty,\n",
            " |      return string[:-len(suffix)]. Otherwise, return a copy of the original\n",
            " |      string.\n",
            " |  \n",
            " |  replace(self, old, new, count=-1, /)\n",
            " |      Return a copy with all occurrences of substring old replaced by new.\n",
            " |      \n",
            " |        count\n",
            " |          Maximum number of occurrences to replace.\n",
            " |          -1 (the default value) means replace all occurrences.\n",
            " |      \n",
            " |      If the optional argument count is given, only the first count occurrences are\n",
            " |      replaced.\n",
            " |  \n",
            " |  rfind(...)\n",
            " |      S.rfind(sub[, start[, end]]) -> int\n",
            " |      \n",
            " |      Return the highest index in S where substring sub is found,\n",
            " |      such that sub is contained within S[start:end].  Optional\n",
            " |      arguments start and end are interpreted as in slice notation.\n",
            " |      \n",
            " |      Return -1 on failure.\n",
            " |  \n",
            " |  rindex(...)\n",
            " |      S.rindex(sub[, start[, end]]) -> int\n",
            " |      \n",
            " |      Return the highest index in S where substring sub is found,\n",
            " |      such that sub is contained within S[start:end].  Optional\n",
            " |      arguments start and end are interpreted as in slice notation.\n",
            " |      \n",
            " |      Raises ValueError when the substring is not found.\n",
            " |  \n",
            " |  rjust(self, width, fillchar=' ', /)\n",
            " |      Return a right-justified string of length width.\n",
            " |      \n",
            " |      Padding is done using the specified fill character (default is a space).\n",
            " |  \n",
            " |  rpartition(self, sep, /)\n",
            " |      Partition the string into three parts using the given separator.\n",
            " |      \n",
            " |      This will search for the separator in the string, starting at the end. If\n",
            " |      the separator is found, returns a 3-tuple containing the part before the\n",
            " |      separator, the separator itself, and the part after it.\n",
            " |      \n",
            " |      If the separator is not found, returns a 3-tuple containing two empty strings\n",
            " |      and the original string.\n",
            " |  \n",
            " |  rsplit(self, /, sep=None, maxsplit=-1)\n",
            " |      Return a list of the substrings in the string, using sep as the separator string.\n",
            " |      \n",
            " |        sep\n",
            " |          The separator used to split the string.\n",
            " |      \n",
            " |          When set to None (the default value), will split on any whitespace\n",
            " |          character (including \\n \\r \\t \\f and spaces) and will discard\n",
            " |          empty strings from the result.\n",
            " |        maxsplit\n",
            " |          Maximum number of splits.\n",
            " |          -1 (the default value) means no limit.\n",
            " |      \n",
            " |      Splitting starts at the end of the string and works to the front.\n",
            " |  \n",
            " |  rstrip(self, chars=None, /)\n",
            " |      Return a copy of the string with trailing whitespace removed.\n",
            " |      \n",
            " |      If chars is given and not None, remove characters in chars instead.\n",
            " |  \n",
            " |  split(self, /, sep=None, maxsplit=-1)\n",
            " |      Return a list of the substrings in the string, using sep as the separator string.\n",
            " |      \n",
            " |        sep\n",
            " |          The separator used to split the string.\n",
            " |      \n",
            " |          When set to None (the default value), will split on any whitespace\n",
            " |          character (including \\n \\r \\t \\f and spaces) and will discard\n",
            " |          empty strings from the result.\n",
            " |        maxsplit\n",
            " |          Maximum number of splits.\n",
            " |          -1 (the default value) means no limit.\n",
            " |      \n",
            " |      Splitting starts at the front of the string and works to the end.\n",
            " |      \n",
            " |      Note, str.split() is mainly useful for data that has been intentionally\n",
            " |      delimited.  With natural text that includes punctuation, consider using\n",
            " |      the regular expression module.\n",
            " |  \n",
            " |  splitlines(self, /, keepends=False)\n",
            " |      Return a list of the lines in the string, breaking at line boundaries.\n",
            " |      \n",
            " |      Line breaks are not included in the resulting list unless keepends is given and\n",
            " |      true.\n",
            " |  \n",
            " |  startswith(...)\n",
            " |      S.startswith(prefix[, start[, end]]) -> bool\n",
            " |      \n",
            " |      Return True if S starts with the specified prefix, False otherwise.\n",
            " |      With optional start, test S beginning at that position.\n",
            " |      With optional end, stop comparing S at that position.\n",
            " |      prefix can also be a tuple of strings to try.\n",
            " |  \n",
            " |  strip(self, chars=None, /)\n",
            " |      Return a copy of the string with leading and trailing whitespace removed.\n",
            " |      \n",
            " |      If chars is given and not None, remove characters in chars instead.\n",
            " |  \n",
            " |  swapcase(self, /)\n",
            " |      Convert uppercase characters to lowercase and lowercase characters to uppercase.\n",
            " |  \n",
            " |  title(self, /)\n",
            " |      Return a version of the string where each word is titlecased.\n",
            " |      \n",
            " |      More specifically, words start with uppercased characters and all remaining\n",
            " |      cased characters have lower case.\n",
            " |  \n",
            " |  translate(self, table, /)\n",
            " |      Replace each character in the string using the given translation table.\n",
            " |      \n",
            " |        table\n",
            " |          Translation table, which must be a mapping of Unicode ordinals to\n",
            " |          Unicode ordinals, strings, or None.\n",
            " |      \n",
            " |      The table must implement lookup/indexing via __getitem__, for instance a\n",
            " |      dictionary or list.  If this operation raises LookupError, the character is\n",
            " |      left untouched.  Characters mapped to None are deleted.\n",
            " |  \n",
            " |  upper(self, /)\n",
            " |      Return a copy of the string converted to uppercase.\n",
            " |  \n",
            " |  zfill(self, width, /)\n",
            " |      Pad a numeric string with zeros on the left, to fill a field of the given width.\n",
            " |      \n",
            " |      The string is never truncated.\n",
            " |  \n",
            " |  ----------------------------------------------------------------------\n",
            " |  Static methods defined here:\n",
            " |  \n",
            " |  __new__(*args, **kwargs)\n",
            " |      Create and return a new object.  See help(type) for accurate signature.\n",
            " |  \n",
            " |  maketrans(...)\n",
            " |      Return a translation table usable for str.translate().\n",
            " |      \n",
            " |      If there is only one argument, it must be a dictionary mapping Unicode\n",
            " |      ordinals (integers) or characters to Unicode ordinals, strings or None.\n",
            " |      Character keys will be then converted to ordinals.\n",
            " |      If there are two arguments, they must be strings of equal length, and\n",
            " |      in the resulting dictionary, each character in x will be mapped to the\n",
            " |      character at the same position in y. If there is a third argument, it\n",
            " |      must be a string, whose characters will be mapped to None in the result.\n",
            "\n"
          ]
        }
      ],
      "source": [
        "help(str)"
      ]
    },
    {
      "cell_type": "markdown",
      "id": "f5537cd8",
      "metadata": {
        "id": "f5537cd8"
      },
      "source": [
        "### Attributes: The Variables of an Object\n",
        "\n",
        "Attributes are like the columns in your spreadsheet. Each attribute stores specific data for each record.\n",
        "\n",
        "**Attribute**: A field in a record, defined by its class.\n"
      ]
    },
    {
      "cell_type": "code",
      "execution_count": null,
      "id": "38341fa0",
      "metadata": {
        "id": "38341fa0"
      },
      "outputs": [],
      "source": [
        "class JobPost:\n",
        "    def __init__(self, title, location, salary):\n",
        "        self.title = title  # Attribute\n",
        "        self.location = location  # Attribute\n",
        "        self.salary = salary  # Attribute\n",
        "\n",
        "    def display_info(self):\n",
        "        return print(f\"JOB:       {self.title}\\nLOCATION:  {self.location}\\nSALARY:    ${self.salary:,.0f}\")"
      ]
    },
    {
      "cell_type": "code",
      "execution_count": null,
      "id": "dcd89f8a",
      "metadata": {
        "id": "dcd89f8a"
      },
      "outputs": [],
      "source": [
        "job = JobPost(\"Data Engineer\", \"New York, NY\", 425000)"
      ]
    },
    {
      "cell_type": "code",
      "execution_count": null,
      "id": "fbd5b34d",
      "metadata": {
        "id": "fbd5b34d",
        "outputId": "74d40599-a051-47bb-d52b-cbda80761c11"
      },
      "outputs": [
        {
          "data": {
            "text/plain": [
              "'Data Engineer'"
            ]
          },
          "execution_count": 64,
          "metadata": {},
          "output_type": "execute_result"
        }
      ],
      "source": [
        "job.title"
      ]
    },
    {
      "cell_type": "code",
      "execution_count": null,
      "id": "a6ccd019",
      "metadata": {
        "id": "a6ccd019",
        "outputId": "e32f5fa1-e18b-4ee9-e291-8a086a291433"
      },
      "outputs": [
        {
          "data": {
            "text/plain": [
              "425000"
            ]
          },
          "execution_count": 65,
          "metadata": {},
          "output_type": "execute_result"
        }
      ],
      "source": [
        "job.salary"
      ]
    },
    {
      "cell_type": "markdown",
      "id": "87300d79",
      "metadata": {
        "id": "87300d79"
      },
      "source": [
        "### Methods: The Functions of an Object\n",
        "\n",
        "Methods are like the built-in functions in Excel that operate on your records. They define actions that the records can perform.\n",
        "\n",
        "**Method**: A function defined inside a class that operates on its objects.\n"
      ]
    },
    {
      "cell_type": "code",
      "execution_count": null,
      "id": "00414ac1",
      "metadata": {
        "id": "00414ac1",
        "outputId": "e85c7855-449e-4a01-bf6d-8b45b8c8f16f"
      },
      "outputs": [
        {
          "name": "stdout",
          "output_type": "stream",
          "text": [
            "JOB:       Data Engineer\n",
            "LOCATION:  New York, NY\n",
            "SALARY:    $425,000\n"
          ]
        }
      ],
      "source": [
        "job = JobPost(\"Data Engineer\", \"New York, NY\", 425000)\n",
        "\n",
        "job.display_info()"
      ]
    }
  ],
  "metadata": {
    "kernelspec": {
      "display_name": "python_course",
      "language": "python",
      "name": "python3"
    },
    "language_info": {
      "codemirror_mode": {
        "name": "ipython",
        "version": 3
      },
      "file_extension": ".py",
      "mimetype": "text/x-python",
      "name": "python",
      "nbconvert_exporter": "python",
      "pygments_lexer": "ipython3",
      "version": "3.11.9"
    },
    "colab": {
      "provenance": []
    }
  },
  "nbformat": 4,
  "nbformat_minor": 5
}