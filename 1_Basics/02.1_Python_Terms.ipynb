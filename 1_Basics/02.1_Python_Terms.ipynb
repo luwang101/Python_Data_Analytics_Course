{
  "cells": [
    {
      "cell_type": "markdown",
      "id": "7d9726ec",
      "metadata": {
        "id": "7d9726ec"
      },
      "source": [
        "<a target=\"_blank\" href=\"https://colab.research.google.com/github/lukebarousse/Python_Data_Analytics_Course/blob/main/1_Basics/02.1_Python_Terms.ipynb\">\n",
        "  <img src=\"https://colab.research.google.com/assets/colab-badge.svg\" alt=\"Open In Colab\"/>\n",
        "</a>"
      ]
    },
    {
      "cell_type": "markdown",
      "id": "121fe821",
      "metadata": {
        "id": "121fe821"
      },
      "source": [
        "## Python Terms\n",
        "\n",
        "#### Terms to know:\n",
        "- **Object**\n",
        "- **Variable**\n",
        "- **Function**\n",
        "- **Class**\n",
        "- **Method**\n",
        "- **Attribute**"
      ]
    },
    {
      "cell_type": "markdown",
      "id": "c1ea1f9e",
      "metadata": {
        "id": "c1ea1f9e"
      },
      "source": [
        "### Objects: The Data Records\n",
        "\n",
        "In data analytics, an object is like a record in your spreadsheet. Each record can have multiple fields, such as job title, location, and salary.\n",
        "\n",
        "**Object**: A data record with fields; an instance of a class.\n"
      ]
    },
    {
      "cell_type": "code",
      "execution_count": null,
      "id": "e0ff7c37",
      "metadata": {
        "id": "e0ff7c37",
        "outputId": "94ebb05b-cc7b-456e-d10a-fe4624cc9af3"
      },
      "outputs": [
        {
          "data": {
            "text/plain": [
              "90000"
            ]
          },
          "execution_count": 40,
          "metadata": {},
          "output_type": "execute_result"
        }
      ],
      "source": [
        "90000  # this is an object"
      ]
    },
    {
      "cell_type": "code",
      "execution_count": null,
      "id": "968ee59f",
      "metadata": {
        "id": "968ee59f",
        "outputId": "1906d7da-6904-4f7c-fd6d-04c7ce35ac7c"
      },
      "outputs": [
        {
          "data": {
            "text/plain": [
              "'Data Analyst'"
            ]
          },
          "execution_count": 41,
          "metadata": {},
          "output_type": "execute_result"
        }
      ],
      "source": [
        "\"Data Analyst\" # this is also an object"
      ]
    },
    {
      "cell_type": "markdown",
      "id": "c184687a",
      "metadata": {
        "id": "c184687a"
      },
      "source": [
        "Python is object-oriented, so even the data types are objects."
      ]
    },
    {
      "cell_type": "code",
      "execution_count": null,
      "id": "34181ac4",
      "metadata": {
        "id": "34181ac4",
        "outputId": "ecf44bc1-b5b0-4dbb-bcab-6332a8ebc472"
      },
      "outputs": [
        {
          "data": {
            "text/plain": [
              "str"
            ]
          },
          "execution_count": 42,
          "metadata": {},
          "output_type": "execute_result"
        }
      ],
      "source": [
        "type(\"Data Analyst\") # this shows that this is an instance of the class 'str'"
      ]
    },
    {
      "cell_type": "code",
      "execution_count": null,
      "id": "e93b1046",
      "metadata": {
        "id": "e93b1046",
        "outputId": "25c249d8-1a40-40ef-8b9e-316ba5388935"
      },
      "outputs": [
        {
          "data": {
            "text/plain": [
              "str"
            ]
          },
          "execution_count": 43,
          "metadata": {},
          "output_type": "execute_result"
        }
      ],
      "source": [
        "str # technically, this is an object too! as it's an instance of the class 'type'"
      ]
    },
    {
      "cell_type": "code",
      "execution_count": null,
      "id": "d8068875",
      "metadata": {
        "id": "d8068875",
        "outputId": "1223507b-5032-461d-a1ce-2819b6f0790c"
      },
      "outputs": [
        {
          "data": {
            "text/plain": [
              "type"
            ]
          },
          "execution_count": 44,
          "metadata": {},
          "output_type": "execute_result"
        }
      ],
      "source": [
        "type(str)"
      ]
    },
    {
      "cell_type": "markdown",
      "id": "1ef640ba",
      "metadata": {
        "id": "1ef640ba"
      },
      "source": [
        "Functions are also objects in Python."
      ]
    },
    {
      "cell_type": "code",
      "execution_count": null,
      "id": "4d55db87",
      "metadata": {
        "id": "4d55db87",
        "outputId": "0d06a09e-e1d9-4fbf-8387-6496ca6c1d2c"
      },
      "outputs": [
        {
          "name": "stdout",
          "output_type": "stream",
          "text": [
            "\n"
          ]
        }
      ],
      "source": [
        "print()"
      ]
    },
    {
      "cell_type": "code",
      "execution_count": null,
      "id": "aaa5da4b",
      "metadata": {
        "id": "aaa5da4b",
        "outputId": "0935ba3c-1171-49f8-c6d3-0b42467e07e0"
      },
      "outputs": [
        {
          "data": {
            "text/plain": [
              "builtin_function_or_method"
            ]
          },
          "execution_count": 46,
          "metadata": {},
          "output_type": "execute_result"
        }
      ],
      "source": [
        "type(print)"
      ]
    },
    {
      "cell_type": "markdown",
      "id": "fe74bb60",
      "metadata": {
        "id": "fe74bb60"
      },
      "source": [
        "### Variables: The Reference to Objects\n",
        "\n",
        "Think of a variable as a cell in an Excel spreadsheet. You can store data in it, like a number, text, or a formula.\n",
        "\n",
        "**Variable**: A defined name that references an object."
      ]
    },
    {
      "cell_type": "code",
      "execution_count": null,
      "id": "0fb0d189",
      "metadata": {
        "id": "0fb0d189"
      },
      "outputs": [],
      "source": [
        "job_title = \"Data Analyst\"\n",
        "job_salary = 90000\n",
        "my_print_function = print"
      ]
    },
    {
      "cell_type": "code",
      "execution_count": null,
      "id": "5199770e",
      "metadata": {
        "id": "5199770e",
        "outputId": "e24ca283-a176-49dd-82fd-e154f9d3825c"
      },
      "outputs": [
        {
          "name": "stdout",
          "output_type": "stream",
          "text": [
            "Data Analyst 90000\n"
          ]
        }
      ],
      "source": [
        "my_print_function(job_title, job_salary)"
      ]
    },
    {
      "cell_type": "code",
      "execution_count": null,
      "id": "a03cbbf0",
      "metadata": {
        "id": "a03cbbf0",
        "outputId": "42be56c6-a344-486d-d618-7d3932d62d67"
      },
      "outputs": [
        {
          "data": {
            "text/plain": [
              "(4681519792, 4595465424, 4525184544)"
            ]
          },
          "execution_count": 49,
          "metadata": {},
          "output_type": "execute_result"
        }
      ],
      "source": [
        "# each variable has a unique identifier\n",
        "id(job_title), id(job_salary), id(my_print_function),"
      ]
    },
    {
      "cell_type": "markdown",
      "id": "864e8619",
      "metadata": {
        "id": "864e8619"
      },
      "source": [
        "Variables that reference the same object are... the same."
      ]
    },
    {
      "cell_type": "code",
      "execution_count": null,
      "id": "4b917379",
      "metadata": {
        "id": "4b917379",
        "outputId": "f81e8399-2891-462c-d320-1cace518477d"
      },
      "outputs": [
        {
          "data": {
            "text/plain": [
              "'Data Analyst'"
            ]
          },
          "execution_count": 50,
          "metadata": {},
          "output_type": "execute_result"
        }
      ],
      "source": [
        "lukes_job = job_title\n",
        "\n",
        "lukes_job"
      ]
    },
    {
      "cell_type": "code",
      "execution_count": null,
      "id": "fc07b63c",
      "metadata": {
        "id": "fc07b63c",
        "outputId": "17006280-04e8-4a9a-9ef5-b02e0546b1ce"
      },
      "outputs": [
        {
          "data": {
            "text/plain": [
              "(4681519792, 4681519792)"
            ]
          },
          "execution_count": 51,
          "metadata": {},
          "output_type": "execute_result"
        }
      ],
      "source": [
        "# the id of the same object is the same\n",
        "id(job_title), id(lukes_job)"
      ]
    },
    {
      "cell_type": "markdown",
      "id": "f367a47d",
      "metadata": {
        "id": "f367a47d"
      },
      "source": [
        "However, variables that may look the same, but reference different objects are... different."
      ]
    },
    {
      "cell_type": "code",
      "execution_count": null,
      "id": "a5aa7f31",
      "metadata": {
        "id": "a5aa7f31",
        "outputId": "3e53cb9b-935a-4ff4-98d1-a2781970ed2e"
      },
      "outputs": [
        {
          "data": {
            "text/plain": [
              "(4681523504, 4681384880)"
            ]
          },
          "execution_count": 52,
          "metadata": {},
          "output_type": "execute_result"
        }
      ],
      "source": [
        "job_title1 = \"Data Analyst\"\n",
        "job_title2 = \"Data Analyst\"\n",
        "\n",
        "# the id of the same object is the same\n",
        "id(job_title1), id(job_title2)"
      ]
    },
    {
      "cell_type": "code",
      "source": [
        "job_title3= job_title1\n",
        "id(job_title3), id(job_title1)"
      ],
      "metadata": {
        "colab": {
          "base_uri": "https://localhost:8080/"
        },
        "id": "SP6Nz8hYJoSn",
        "outputId": "c634f705-bd9e-4325-c32c-9835e7a685d3"
      },
      "id": "SP6Nz8hYJoSn",
      "execution_count": 9,
      "outputs": [
        {
          "output_type": "execute_result",
          "data": {
            "text/plain": [
              "(137398293410416, 137398293410416)"
            ]
          },
          "metadata": {},
          "execution_count": 9
        }
      ]
    },
    {
      "cell_type": "code",
      "source": [
        "print(\"what's up, Data Nerds\")"
      ],
      "metadata": {
        "colab": {
          "base_uri": "https://localhost:8080/"
        },
        "id": "2e7V3GUWLjFP",
        "outputId": "f2dd72d0-851d-4520-80a8-1008d3841dce"
      },
      "id": "2e7V3GUWLjFP",
      "execution_count": 10,
      "outputs": [
        {
          "output_type": "stream",
          "name": "stdout",
          "text": [
            "what's up, Data Nerds\n"
          ]
        }
      ]
    },
    {
      "cell_type": "code",
      "source": [
        "my_print_func= print\n",
        "my_print_func(\"what's up, Data Nerds\")"
      ],
      "metadata": {
        "colab": {
          "base_uri": "https://localhost:8080/"
        },
        "id": "8VqCp0m8MVe-",
        "outputId": "aabb478f-cae3-4baa-fcc6-2667fd59314c"
      },
      "id": "8VqCp0m8MVe-",
      "execution_count": 12,
      "outputs": [
        {
          "output_type": "stream",
          "name": "stdout",
          "text": [
            "what's up, Data Nerds\n"
          ]
        }
      ]
    },
    {
      "cell_type": "markdown",
      "id": "c246c6c4",
      "metadata": {
        "id": "c246c6c4"
      },
      "source": [
        "### Functions: The Manipulators of Objects\n",
        "\n",
        "Functions are like custom formulas in Excel. They perform tasks that can be applied to different sets of data.\n",
        "\n",
        "**Function**: A reusable piece of code that performs a specific task."
      ]
    },
    {
      "cell_type": "markdown",
      "id": "325b4fb8",
      "metadata": {
        "id": "325b4fb8"
      },
      "source": [
        "The `print()` we saw already is a function."
      ]
    },
    {
      "cell_type": "code",
      "source": [
        "print\n"
      ],
      "metadata": {
        "colab": {
          "base_uri": "https://localhost:8080/"
        },
        "id": "Z4thQxb3MomW",
        "outputId": "79eadc96-5606-4ab9-98b6-17ed1d969697"
      },
      "id": "Z4thQxb3MomW",
      "execution_count": 13,
      "outputs": [
        {
          "output_type": "execute_result",
          "data": {
            "text/plain": [
              "<function print(*args, sep=' ', end='\\n', file=None, flush=False)>"
            ]
          },
          "metadata": {},
          "execution_count": 13
        }
      ]
    },
    {
      "cell_type": "code",
      "execution_count": null,
      "id": "2c21a898",
      "metadata": {
        "id": "2c21a898",
        "outputId": "899ebe9d-9557-40a4-aa1a-e4e09456cebf"
      },
      "outputs": [
        {
          "name": "stdout",
          "output_type": "stream",
          "text": [
            "What's up, Data Nerds!\n"
          ]
        }
      ],
      "source": [
        "# provide functions arguments to print in parenthesis\n",
        "print(\"What's up, Data Nerds!\")"
      ]
    },
    {
      "cell_type": "markdown",
      "id": "3d192b12",
      "metadata": {
        "id": "3d192b12"
      },
      "source": [
        "I could make this into a function:"
      ]
    },
    {
      "cell_type": "code",
      "execution_count": null,
      "id": "2b8e4685",
      "metadata": {
        "id": "2b8e4685"
      },
      "outputs": [],
      "source": [
        "def greet():\n",
        "    return \"What's up, Data Nerds!\""
      ]
    },
    {
      "cell_type": "code",
      "execution_count": null,
      "id": "ad74e3c2",
      "metadata": {
        "id": "ad74e3c2",
        "outputId": "49e938ca-9cb9-4565-cbb2-7f277e2b8b96"
      },
      "outputs": [
        {
          "data": {
            "text/plain": [
              "\"What's up, Data Nerds!\""
            ]
          },
          "execution_count": 55,
          "metadata": {},
          "output_type": "execute_result"
        }
      ],
      "source": [
        "greet()"
      ]
    },
    {
      "cell_type": "markdown",
      "id": "03389c5d",
      "metadata": {
        "id": "03389c5d"
      },
      "source": [
        "Here's a custom built function that prints our job info nicely:"
      ]
    },
    {
      "cell_type": "code",
      "execution_count": null,
      "id": "66b6ee25",
      "metadata": {
        "id": "66b6ee25"
      },
      "outputs": [],
      "source": [
        "def display_info(title, location, salary):\n",
        "    return print(f\"JOB:       {title}\\nLOCATION:  {location}\\nSALARY:    ${salary:,.0f}\")"
      ]
    },
    {
      "cell_type": "code",
      "execution_count": null,
      "id": "a453263c",
      "metadata": {
        "id": "a453263c",
        "outputId": "2ac64e3b-84d9-4805-f012-aa3cba7896d2"
      },
      "outputs": [
        {
          "name": "stdout",
          "output_type": "stream",
          "text": [
            "JOB:       Data Analyst\n",
            "LOCATION:  United States\n",
            "SALARY:    $90,000\n"
          ]
        }
      ],
      "source": [
        "job_title = \"Data Analyst\"\n",
        "job_location = \"United States\"\n",
        "job_salary = 90000\n",
        "\n",
        "display_info(job_title, job_location, job_salary)"
      ]
    },
    {
      "cell_type": "markdown",
      "id": "b7fb6cbf",
      "metadata": {
        "id": "b7fb6cbf"
      },
      "source": [
        "### Classes: The Template of Objects\n",
        "\n",
        "A class is like a template for your records in Excel. It defines the fields that each record will have.\n",
        "\n",
        "**Class**: A template for creating objects (records).\n"
      ]
    },
    {
      "cell_type": "code",
      "source": [
        "help(int)"
      ],
      "metadata": {
        "colab": {
          "base_uri": "https://localhost:8080/"
        },
        "id": "HWkroxH5YKms",
        "outputId": "3256dacf-d9a9-46a5-ba4d-0a9cbaf918b7"
      },
      "id": "HWkroxH5YKms",
      "execution_count": 14,
      "outputs": [
        {
          "output_type": "stream",
          "name": "stdout",
          "text": [
            "Help on class int in module builtins:\n",
            "\n",
            "class int(object)\n",
            " |  int([x]) -> integer\n",
            " |  int(x, base=10) -> integer\n",
            " |\n",
            " |  Convert a number or string to an integer, or return 0 if no arguments\n",
            " |  are given.  If x is a number, return x.__int__().  For floating-point\n",
            " |  numbers, this truncates towards zero.\n",
            " |\n",
            " |  If x is not a number or if base is given, then x must be a string,\n",
            " |  bytes, or bytearray instance representing an integer literal in the\n",
            " |  given base.  The literal can be preceded by '+' or '-' and be surrounded\n",
            " |  by whitespace.  The base defaults to 10.  Valid bases are 0 and 2-36.\n",
            " |  Base 0 means to interpret the base from the string as an integer literal.\n",
            " |  >>> int('0b100', base=0)\n",
            " |  4\n",
            " |\n",
            " |  Built-in subclasses:\n",
            " |      bool\n",
            " |\n",
            " |  Methods defined here:\n",
            " |\n",
            " |  __abs__(self, /)\n",
            " |      abs(self)\n",
            " |\n",
            " |  __add__(self, value, /)\n",
            " |      Return self+value.\n",
            " |\n",
            " |  __and__(self, value, /)\n",
            " |      Return self&value.\n",
            " |\n",
            " |  __bool__(self, /)\n",
            " |      True if self else False\n",
            " |\n",
            " |  __ceil__(...)\n",
            " |      Ceiling of an Integral returns itself.\n",
            " |\n",
            " |  __divmod__(self, value, /)\n",
            " |      Return divmod(self, value).\n",
            " |\n",
            " |  __eq__(self, value, /)\n",
            " |      Return self==value.\n",
            " |\n",
            " |  __float__(self, /)\n",
            " |      float(self)\n",
            " |\n",
            " |  __floor__(...)\n",
            " |      Flooring an Integral returns itself.\n",
            " |\n",
            " |  __floordiv__(self, value, /)\n",
            " |      Return self//value.\n",
            " |\n",
            " |  __format__(self, format_spec, /)\n",
            " |      Convert to a string according to format_spec.\n",
            " |\n",
            " |  __ge__(self, value, /)\n",
            " |      Return self>=value.\n",
            " |\n",
            " |  __getattribute__(self, name, /)\n",
            " |      Return getattr(self, name).\n",
            " |\n",
            " |  __getnewargs__(self, /)\n",
            " |\n",
            " |  __gt__(self, value, /)\n",
            " |      Return self>value.\n",
            " |\n",
            " |  __hash__(self, /)\n",
            " |      Return hash(self).\n",
            " |\n",
            " |  __index__(self, /)\n",
            " |      Return self converted to an integer, if self is suitable for use as an index into a list.\n",
            " |\n",
            " |  __int__(self, /)\n",
            " |      int(self)\n",
            " |\n",
            " |  __invert__(self, /)\n",
            " |      ~self\n",
            " |\n",
            " |  __le__(self, value, /)\n",
            " |      Return self<=value.\n",
            " |\n",
            " |  __lshift__(self, value, /)\n",
            " |      Return self<<value.\n",
            " |\n",
            " |  __lt__(self, value, /)\n",
            " |      Return self<value.\n",
            " |\n",
            " |  __mod__(self, value, /)\n",
            " |      Return self%value.\n",
            " |\n",
            " |  __mul__(self, value, /)\n",
            " |      Return self*value.\n",
            " |\n",
            " |  __ne__(self, value, /)\n",
            " |      Return self!=value.\n",
            " |\n",
            " |  __neg__(self, /)\n",
            " |      -self\n",
            " |\n",
            " |  __or__(self, value, /)\n",
            " |      Return self|value.\n",
            " |\n",
            " |  __pos__(self, /)\n",
            " |      +self\n",
            " |\n",
            " |  __pow__(self, value, mod=None, /)\n",
            " |      Return pow(self, value, mod).\n",
            " |\n",
            " |  __radd__(self, value, /)\n",
            " |      Return value+self.\n",
            " |\n",
            " |  __rand__(self, value, /)\n",
            " |      Return value&self.\n",
            " |\n",
            " |  __rdivmod__(self, value, /)\n",
            " |      Return divmod(value, self).\n",
            " |\n",
            " |  __repr__(self, /)\n",
            " |      Return repr(self).\n",
            " |\n",
            " |  __rfloordiv__(self, value, /)\n",
            " |      Return value//self.\n",
            " |\n",
            " |  __rlshift__(self, value, /)\n",
            " |      Return value<<self.\n",
            " |\n",
            " |  __rmod__(self, value, /)\n",
            " |      Return value%self.\n",
            " |\n",
            " |  __rmul__(self, value, /)\n",
            " |      Return value*self.\n",
            " |\n",
            " |  __ror__(self, value, /)\n",
            " |      Return value|self.\n",
            " |\n",
            " |  __round__(...)\n",
            " |      Rounding an Integral returns itself.\n",
            " |\n",
            " |      Rounding with an ndigits argument also returns an integer.\n",
            " |\n",
            " |  __rpow__(self, value, mod=None, /)\n",
            " |      Return pow(value, self, mod).\n",
            " |\n",
            " |  __rrshift__(self, value, /)\n",
            " |      Return value>>self.\n",
            " |\n",
            " |  __rshift__(self, value, /)\n",
            " |      Return self>>value.\n",
            " |\n",
            " |  __rsub__(self, value, /)\n",
            " |      Return value-self.\n",
            " |\n",
            " |  __rtruediv__(self, value, /)\n",
            " |      Return value/self.\n",
            " |\n",
            " |  __rxor__(self, value, /)\n",
            " |      Return value^self.\n",
            " |\n",
            " |  __sizeof__(self, /)\n",
            " |      Returns size in memory, in bytes.\n",
            " |\n",
            " |  __sub__(self, value, /)\n",
            " |      Return self-value.\n",
            " |\n",
            " |  __truediv__(self, value, /)\n",
            " |      Return self/value.\n",
            " |\n",
            " |  __trunc__(...)\n",
            " |      Truncating an Integral returns itself.\n",
            " |\n",
            " |  __xor__(self, value, /)\n",
            " |      Return self^value.\n",
            " |\n",
            " |  as_integer_ratio(self, /)\n",
            " |      Return a pair of integers, whose ratio is equal to the original int.\n",
            " |\n",
            " |      The ratio is in lowest terms and has a positive denominator.\n",
            " |\n",
            " |      >>> (10).as_integer_ratio()\n",
            " |      (10, 1)\n",
            " |      >>> (-10).as_integer_ratio()\n",
            " |      (-10, 1)\n",
            " |      >>> (0).as_integer_ratio()\n",
            " |      (0, 1)\n",
            " |\n",
            " |  bit_count(self, /)\n",
            " |      Number of ones in the binary representation of the absolute value of self.\n",
            " |\n",
            " |      Also known as the population count.\n",
            " |\n",
            " |      >>> bin(13)\n",
            " |      '0b1101'\n",
            " |      >>> (13).bit_count()\n",
            " |      3\n",
            " |\n",
            " |  bit_length(self, /)\n",
            " |      Number of bits necessary to represent self in binary.\n",
            " |\n",
            " |      >>> bin(37)\n",
            " |      '0b100101'\n",
            " |      >>> (37).bit_length()\n",
            " |      6\n",
            " |\n",
            " |  conjugate(...)\n",
            " |      Returns self, the complex conjugate of any int.\n",
            " |\n",
            " |  is_integer(self, /)\n",
            " |      Returns True. Exists for duck type compatibility with float.is_integer.\n",
            " |\n",
            " |  to_bytes(self, /, length=1, byteorder='big', *, signed=False)\n",
            " |      Return an array of bytes representing an integer.\n",
            " |\n",
            " |      length\n",
            " |        Length of bytes object to use.  An OverflowError is raised if the\n",
            " |        integer is not representable with the given number of bytes.  Default\n",
            " |        is length 1.\n",
            " |      byteorder\n",
            " |        The byte order used to represent the integer.  If byteorder is 'big',\n",
            " |        the most significant byte is at the beginning of the byte array.  If\n",
            " |        byteorder is 'little', the most significant byte is at the end of the\n",
            " |        byte array.  To request the native byte order of the host system, use\n",
            " |        `sys.byteorder' as the byte order value.  Default is to use 'big'.\n",
            " |      signed\n",
            " |        Determines whether two's complement is used to represent the integer.\n",
            " |        If signed is False and a negative integer is given, an OverflowError\n",
            " |        is raised.\n",
            " |\n",
            " |  ----------------------------------------------------------------------\n",
            " |  Class methods defined here:\n",
            " |\n",
            " |  from_bytes(bytes, byteorder='big', *, signed=False)\n",
            " |      Return the integer represented by the given array of bytes.\n",
            " |\n",
            " |      bytes\n",
            " |        Holds the array of bytes to convert.  The argument must either\n",
            " |        support the buffer protocol or be an iterable object producing bytes.\n",
            " |        Bytes and bytearray are examples of built-in objects that support the\n",
            " |        buffer protocol.\n",
            " |      byteorder\n",
            " |        The byte order used to represent the integer.  If byteorder is 'big',\n",
            " |        the most significant byte is at the beginning of the byte array.  If\n",
            " |        byteorder is 'little', the most significant byte is at the end of the\n",
            " |        byte array.  To request the native byte order of the host system, use\n",
            " |        `sys.byteorder' as the byte order value.  Default is to use 'big'.\n",
            " |      signed\n",
            " |        Indicates whether two's complement is used to represent the integer.\n",
            " |\n",
            " |  ----------------------------------------------------------------------\n",
            " |  Static methods defined here:\n",
            " |\n",
            " |  __new__(*args, **kwargs)\n",
            " |      Create and return a new object.  See help(type) for accurate signature.\n",
            " |\n",
            " |  ----------------------------------------------------------------------\n",
            " |  Data descriptors defined here:\n",
            " |\n",
            " |  denominator\n",
            " |      the denominator of a rational number in lowest terms\n",
            " |\n",
            " |  imag\n",
            " |      the imaginary part of a complex number\n",
            " |\n",
            " |  numerator\n",
            " |      the numerator of a rational number in lowest terms\n",
            " |\n",
            " |  real\n",
            " |      the real part of a complex number\n",
            "\n"
          ]
        }
      ]
    },
    {
      "cell_type": "code",
      "execution_count": null,
      "id": "2cfd7804",
      "metadata": {
        "id": "2cfd7804"
      },
      "outputs": [],
      "source": [
        "class JobPost:\n",
        "    def __init__(self, title, location, salary):\n",
        "        self.title = title\n",
        "        self.location = location\n",
        "        self.salary = salary\n",
        "\n",
        "    def display_info(self):\n",
        "        return print(f\"JOB:       {self.title}\\nLOCATION:  {self.location}\\nSALARY:    ${self.salary:,.0f}\")"
      ]
    },
    {
      "cell_type": "code",
      "source": [],
      "metadata": {
        "id": "OvVUR6TTZSM7"
      },
      "id": "OvVUR6TTZSM7",
      "execution_count": null,
      "outputs": []
    },
    {
      "cell_type": "code",
      "execution_count": 18,
      "metadata": {
        "colab": {
          "base_uri": "https://localhost:8080/",
          "height": 141
        },
        "id": "d0f7b6c5",
        "outputId": "4d7e67b9-99db-4750-d119-0cdb9352caf0"
      },
      "outputs": [
        {
          "output_type": "error",
          "ename": "NameError",
          "evalue": "name 'JobPost' is not defined",
          "traceback": [
            "\u001b[0;31m---------------------------------------------------------------------------\u001b[0m",
            "\u001b[0;31mNameError\u001b[0m                                 Traceback (most recent call last)",
            "\u001b[0;32m/tmp/ipython-input-2804032245.py\u001b[0m in \u001b[0;36m<cell line: 0>\u001b[0;34m()\u001b[0m\n\u001b[0;32m----> 1\u001b[0;31m \u001b[0mJobPost\u001b[0m\u001b[0;34m\u001b[0m\u001b[0;34m\u001b[0m\u001b[0m\n\u001b[0m",
            "\u001b[0;31mNameError\u001b[0m: name 'JobPost' is not defined"
          ]
        }
      ],
      "source": [
        "#an instance"
      ],
      "id": "d0f7b6c5"
    },
    {
      "cell_type": "markdown",
      "id": "ab6c2389",
      "metadata": {
        "id": "ab6c2389"
      },
      "source": [
        "In the next lessons we'll be covering data types which are built with classes."
      ]
    },
    {
      "cell_type": "code",
      "execution_count": null,
      "id": "9796df59",
      "metadata": {
        "id": "9796df59",
        "outputId": "8d9201b2-a02e-4529-a5a5-b478f044934d"
      },
      "outputs": [
        {
          "data": {
            "text/plain": [
              "str"
            ]
          },
          "execution_count": 60,
          "metadata": {},
          "output_type": "execute_result"
        }
      ],
      "source": [
        "type(\"What's up, Data Nerds!\")"
      ]
    },
    {
      "cell_type": "markdown",
      "id": "ecd688ab",
      "metadata": {
        "id": "ecd688ab"
      },
      "source": [
        "Help function shows class string's documentation."
      ]
    },
    {
      "cell_type": "code",
      "execution_count": null,
      "id": "ee9c97c9",
      "metadata": {
        "id": "ee9c97c9",
        "outputId": "dfa0c21e-4c0f-4d56-834a-330f31a492f3"
      },
      "outputs": [
        {
          "name": "stdout",
          "output_type": "stream",
          "text": [
            "Help on class str in module builtins:\n",
            "\n",
            "class str(object)\n",
            " |  str(object='') -> str\n",
            " |  str(bytes_or_buffer[, encoding[, errors]]) -> str\n",
            " |  \n",
            " |  Create a new string object from the given object. If encoding or\n",
            " |  errors is specified, then the object must expose a data buffer\n",
            " |  that will be decoded using the given encoding and error handler.\n",
            " |  Otherwise, returns the result of object.__str__() (if defined)\n",
            " |  or repr(object).\n",
            " |  encoding defaults to sys.getdefaultencoding().\n",
            " |  errors defaults to 'strict'.\n",
            " |  \n",
            " |  Methods defined here:\n",
            " |  \n",
            " |  __add__(self, value, /)\n",
            " |      Return self+value.\n",
            " |  \n",
            " |  __contains__(self, key, /)\n",
            " |      Return key in self.\n",
            " |  \n",
            " |  __eq__(self, value, /)\n",
            " |      Return self==value.\n",
            " |  \n",
            " |  __format__(self, format_spec, /)\n",
            " |      Return a formatted version of the string as described by format_spec.\n",
            " |  \n",
            " |  __ge__(self, value, /)\n",
            " |      Return self>=value.\n",
            " |  \n",
            " |  __getattribute__(self, name, /)\n",
            " |      Return getattr(self, name).\n",
            " |  \n",
            " |  __getitem__(self, key, /)\n",
            " |      Return self[key].\n",
            " |  \n",
            " |  __getnewargs__(...)\n",
            " |  \n",
            " |  __gt__(self, value, /)\n",
            " |      Return self>value.\n",
            " |  \n",
            " |  __hash__(self, /)\n",
            " |      Return hash(self).\n",
            " |  \n",
            " |  __iter__(self, /)\n",
            " |      Implement iter(self).\n",
            " |  \n",
            " |  __le__(self, value, /)\n",
            " |      Return self<=value.\n",
            " |  \n",
            " |  __len__(self, /)\n",
            " |      Return len(self).\n",
            " |  \n",
            " |  __lt__(self, value, /)\n",
            " |      Return self<value.\n",
            " |  \n",
            " |  __mod__(self, value, /)\n",
            " |      Return self%value.\n",
            " |  \n",
            " |  __mul__(self, value, /)\n",
            " |      Return self*value.\n",
            " |  \n",
            " |  __ne__(self, value, /)\n",
            " |      Return self!=value.\n",
            " |  \n",
            " |  __repr__(self, /)\n",
            " |      Return repr(self).\n",
            " |  \n",
            " |  __rmod__(self, value, /)\n",
            " |      Return value%self.\n",
            " |  \n",
            " |  __rmul__(self, value, /)\n",
            " |      Return value*self.\n",
            " |  \n",
            " |  __sizeof__(self, /)\n",
            " |      Return the size of the string in memory, in bytes.\n",
            " |  \n",
            " |  __str__(self, /)\n",
            " |      Return str(self).\n",
            " |  \n",
            " |  capitalize(self, /)\n",
            " |      Return a capitalized version of the string.\n",
            " |      \n",
            " |      More specifically, make the first character have upper case and the rest lower\n",
            " |      case.\n",
            " |  \n",
            " |  casefold(self, /)\n",
            " |      Return a version of the string suitable for caseless comparisons.\n",
            " |  \n",
            " |  center(self, width, fillchar=' ', /)\n",
            " |      Return a centered string of length width.\n",
            " |      \n",
            " |      Padding is done using the specified fill character (default is a space).\n",
            " |  \n",
            " |  count(...)\n",
            " |      S.count(sub[, start[, end]]) -> int\n",
            " |      \n",
            " |      Return the number of non-overlapping occurrences of substring sub in\n",
            " |      string S[start:end].  Optional arguments start and end are\n",
            " |      interpreted as in slice notation.\n",
            " |  \n",
            " |  encode(self, /, encoding='utf-8', errors='strict')\n",
            " |      Encode the string using the codec registered for encoding.\n",
            " |      \n",
            " |      encoding\n",
            " |        The encoding in which to encode the string.\n",
            " |      errors\n",
            " |        The error handling scheme to use for encoding errors.\n",
            " |        The default is 'strict' meaning that encoding errors raise a\n",
            " |        UnicodeEncodeError.  Other possible values are 'ignore', 'replace' and\n",
            " |        'xmlcharrefreplace' as well as any other name registered with\n",
            " |        codecs.register_error that can handle UnicodeEncodeErrors.\n",
            " |  \n",
            " |  endswith(...)\n",
            " |      S.endswith(suffix[, start[, end]]) -> bool\n",
            " |      \n",
            " |      Return True if S ends with the specified suffix, False otherwise.\n",
            " |      With optional start, test S beginning at that position.\n",
            " |      With optional end, stop comparing S at that position.\n",
            " |      suffix can also be a tuple of strings to try.\n",
            " |  \n",
            " |  expandtabs(self, /, tabsize=8)\n",
            " |      Return a copy where all tab characters are expanded using spaces.\n",
            " |      \n",
            " |      If tabsize is not given, a tab size of 8 characters is assumed.\n",
            " |  \n",
            " |  find(...)\n",
            " |      S.find(sub[, start[, end]]) -> int\n",
            " |      \n",
            " |      Return the lowest index in S where substring sub is found,\n",
            " |      such that sub is contained within S[start:end].  Optional\n",
            " |      arguments start and end are interpreted as in slice notation.\n",
            " |      \n",
            " |      Return -1 on failure.\n",
            " |  \n",
            " |  format(...)\n",
            " |      S.format(*args, **kwargs) -> str\n",
            " |      \n",
            " |      Return a formatted version of S, using substitutions from args and kwargs.\n",
            " |      The substitutions are identified by braces ('{' and '}').\n",
            " |  \n",
            " |  format_map(...)\n",
            " |      S.format_map(mapping) -> str\n",
            " |      \n",
            " |      Return a formatted version of S, using substitutions from mapping.\n",
            " |      The substitutions are identified by braces ('{' and '}').\n",
            " |  \n",
            " |  index(...)\n",
            " |      S.index(sub[, start[, end]]) -> int\n",
            " |      \n",
            " |      Return the lowest index in S where substring sub is found,\n",
            " |      such that sub is contained within S[start:end].  Optional\n",
            " |      arguments start and end are interpreted as in slice notation.\n",
            " |      \n",
            " |      Raises ValueError when the substring is not found.\n",
            " |  \n",
            " |  isalnum(self, /)\n",
            " |      Return True if the string is an alpha-numeric string, False otherwise.\n",
            " |      \n",
            " |      A string is alpha-numeric if all characters in the string are alpha-numeric and\n",
            " |      there is at least one character in the string.\n",
            " |  \n",
            " |  isalpha(self, /)\n",
            " |      Return True if the string is an alphabetic string, False otherwise.\n",
            " |      \n",
            " |      A string is alphabetic if all characters in the string are alphabetic and there\n",
            " |      is at least one character in the string.\n",
            " |  \n",
            " |  isascii(self, /)\n",
            " |      Return True if all characters in the string are ASCII, False otherwise.\n",
            " |      \n",
            " |      ASCII characters have code points in the range U+0000-U+007F.\n",
            " |      Empty string is ASCII too.\n",
            " |  \n",
            " |  isdecimal(self, /)\n",
            " |      Return True if the string is a decimal string, False otherwise.\n",
            " |      \n",
            " |      A string is a decimal string if all characters in the string are decimal and\n",
            " |      there is at least one character in the string.\n",
            " |  \n",
            " |  isdigit(self, /)\n",
            " |      Return True if the string is a digit string, False otherwise.\n",
            " |      \n",
            " |      A string is a digit string if all characters in the string are digits and there\n",
            " |      is at least one character in the string.\n",
            " |  \n",
            " |  isidentifier(self, /)\n",
            " |      Return True if the string is a valid Python identifier, False otherwise.\n",
            " |      \n",
            " |      Call keyword.iskeyword(s) to test whether string s is a reserved identifier,\n",
            " |      such as \"def\" or \"class\".\n",
            " |  \n",
            " |  islower(self, /)\n",
            " |      Return True if the string is a lowercase string, False otherwise.\n",
            " |      \n",
            " |      A string is lowercase if all cased characters in the string are lowercase and\n",
            " |      there is at least one cased character in the string.\n",
            " |  \n",
            " |  isnumeric(self, /)\n",
            " |      Return True if the string is a numeric string, False otherwise.\n",
            " |      \n",
            " |      A string is numeric if all characters in the string are numeric and there is at\n",
            " |      least one character in the string.\n",
            " |  \n",
            " |  isprintable(self, /)\n",
            " |      Return True if the string is printable, False otherwise.\n",
            " |      \n",
            " |      A string is printable if all of its characters are considered printable in\n",
            " |      repr() or if it is empty.\n",
            " |  \n",
            " |  isspace(self, /)\n",
            " |      Return True if the string is a whitespace string, False otherwise.\n",
            " |      \n",
            " |      A string is whitespace if all characters in the string are whitespace and there\n",
            " |      is at least one character in the string.\n",
            " |  \n",
            " |  istitle(self, /)\n",
            " |      Return True if the string is a title-cased string, False otherwise.\n",
            " |      \n",
            " |      In a title-cased string, upper- and title-case characters may only\n",
            " |      follow uncased characters and lowercase characters only cased ones.\n",
            " |  \n",
            " |  isupper(self, /)\n",
            " |      Return True if the string is an uppercase string, False otherwise.\n",
            " |      \n",
            " |      A string is uppercase if all cased characters in the string are uppercase and\n",
            " |      there is at least one cased character in the string.\n",
            " |  \n",
            " |  join(self, iterable, /)\n",
            " |      Concatenate any number of strings.\n",
            " |      \n",
            " |      The string whose method is called is inserted in between each given string.\n",
            " |      The result is returned as a new string.\n",
            " |      \n",
            " |      Example: '.'.join(['ab', 'pq', 'rs']) -> 'ab.pq.rs'\n",
            " |  \n",
            " |  ljust(self, width, fillchar=' ', /)\n",
            " |      Return a left-justified string of length width.\n",
            " |      \n",
            " |      Padding is done using the specified fill character (default is a space).\n",
            " |  \n",
            " |  lower(self, /)\n",
            " |      Return a copy of the string converted to lowercase.\n",
            " |  \n",
            " |  lstrip(self, chars=None, /)\n",
            " |      Return a copy of the string with leading whitespace removed.\n",
            " |      \n",
            " |      If chars is given and not None, remove characters in chars instead.\n",
            " |  \n",
            " |  partition(self, sep, /)\n",
            " |      Partition the string into three parts using the given separator.\n",
            " |      \n",
            " |      This will search for the separator in the string.  If the separator is found,\n",
            " |      returns a 3-tuple containing the part before the separator, the separator\n",
            " |      itself, and the part after it.\n",
            " |      \n",
            " |      If the separator is not found, returns a 3-tuple containing the original string\n",
            " |      and two empty strings.\n",
            " |  \n",
            " |  removeprefix(self, prefix, /)\n",
            " |      Return a str with the given prefix string removed if present.\n",
            " |      \n",
            " |      If the string starts with the prefix string, return string[len(prefix):].\n",
            " |      Otherwise, return a copy of the original string.\n",
            " |  \n",
            " |  removesuffix(self, suffix, /)\n",
            " |      Return a str with the given suffix string removed if present.\n",
            " |      \n",
            " |      If the string ends with the suffix string and that suffix is not empty,\n",
            " |      return string[:-len(suffix)]. Otherwise, return a copy of the original\n",
            " |      string.\n",
            " |  \n",
            " |  replace(self, old, new, count=-1, /)\n",
            " |      Return a copy with all occurrences of substring old replaced by new.\n",
            " |      \n",
            " |        count\n",
            " |          Maximum number of occurrences to replace.\n",
            " |          -1 (the default value) means replace all occurrences.\n",
            " |      \n",
            " |      If the optional argument count is given, only the first count occurrences are\n",
            " |      replaced.\n",
            " |  \n",
            " |  rfind(...)\n",
            " |      S.rfind(sub[, start[, end]]) -> int\n",
            " |      \n",
            " |      Return the highest index in S where substring sub is found,\n",
            " |      such that sub is contained within S[start:end].  Optional\n",
            " |      arguments start and end are interpreted as in slice notation.\n",
            " |      \n",
            " |      Return -1 on failure.\n",
            " |  \n",
            " |  rindex(...)\n",
            " |      S.rindex(sub[, start[, end]]) -> int\n",
            " |      \n",
            " |      Return the highest index in S where substring sub is found,\n",
            " |      such that sub is contained within S[start:end].  Optional\n",
            " |      arguments start and end are interpreted as in slice notation.\n",
            " |      \n",
            " |      Raises ValueError when the substring is not found.\n",
            " |  \n",
            " |  rjust(self, width, fillchar=' ', /)\n",
            " |      Return a right-justified string of length width.\n",
            " |      \n",
            " |      Padding is done using the specified fill character (default is a space).\n",
            " |  \n",
            " |  rpartition(self, sep, /)\n",
            " |      Partition the string into three parts using the given separator.\n",
            " |      \n",
            " |      This will search for the separator in the string, starting at the end. If\n",
            " |      the separator is found, returns a 3-tuple containing the part before the\n",
            " |      separator, the separator itself, and the part after it.\n",
            " |      \n",
            " |      If the separator is not found, returns a 3-tuple containing two empty strings\n",
            " |      and the original string.\n",
            " |  \n",
            " |  rsplit(self, /, sep=None, maxsplit=-1)\n",
            " |      Return a list of the substrings in the string, using sep as the separator string.\n",
            " |      \n",
            " |        sep\n",
            " |          The separator used to split the string.\n",
            " |      \n",
            " |          When set to None (the default value), will split on any whitespace\n",
            " |          character (including \\n \\r \\t \\f and spaces) and will discard\n",
            " |          empty strings from the result.\n",
            " |        maxsplit\n",
            " |          Maximum number of splits.\n",
            " |          -1 (the default value) means no limit.\n",
            " |      \n",
            " |      Splitting starts at the end of the string and works to the front.\n",
            " |  \n",
            " |  rstrip(self, chars=None, /)\n",
            " |      Return a copy of the string with trailing whitespace removed.\n",
            " |      \n",
            " |      If chars is given and not None, remove characters in chars instead.\n",
            " |  \n",
            " |  split(self, /, sep=None, maxsplit=-1)\n",
            " |      Return a list of the substrings in the string, using sep as the separator string.\n",
            " |      \n",
            " |        sep\n",
            " |          The separator used to split the string.\n",
            " |      \n",
            " |          When set to None (the default value), will split on any whitespace\n",
            " |          character (including \\n \\r \\t \\f and spaces) and will discard\n",
            " |          empty strings from the result.\n",
            " |        maxsplit\n",
            " |          Maximum number of splits.\n",
            " |          -1 (the default value) means no limit.\n",
            " |      \n",
            " |      Splitting starts at the front of the string and works to the end.\n",
            " |      \n",
            " |      Note, str.split() is mainly useful for data that has been intentionally\n",
            " |      delimited.  With natural text that includes punctuation, consider using\n",
            " |      the regular expression module.\n",
            " |  \n",
            " |  splitlines(self, /, keepends=False)\n",
            " |      Return a list of the lines in the string, breaking at line boundaries.\n",
            " |      \n",
            " |      Line breaks are not included in the resulting list unless keepends is given and\n",
            " |      true.\n",
            " |  \n",
            " |  startswith(...)\n",
            " |      S.startswith(prefix[, start[, end]]) -> bool\n",
            " |      \n",
            " |      Return True if S starts with the specified prefix, False otherwise.\n",
            " |      With optional start, test S beginning at that position.\n",
            " |      With optional end, stop comparing S at that position.\n",
            " |      prefix can also be a tuple of strings to try.\n",
            " |  \n",
            " |  strip(self, chars=None, /)\n",
            " |      Return a copy of the string with leading and trailing whitespace removed.\n",
            " |      \n",
            " |      If chars is given and not None, remove characters in chars instead.\n",
            " |  \n",
            " |  swapcase(self, /)\n",
            " |      Convert uppercase characters to lowercase and lowercase characters to uppercase.\n",
            " |  \n",
            " |  title(self, /)\n",
            " |      Return a version of the string where each word is titlecased.\n",
            " |      \n",
            " |      More specifically, words start with uppercased characters and all remaining\n",
            " |      cased characters have lower case.\n",
            " |  \n",
            " |  translate(self, table, /)\n",
            " |      Replace each character in the string using the given translation table.\n",
            " |      \n",
            " |        table\n",
            " |          Translation table, which must be a mapping of Unicode ordinals to\n",
            " |          Unicode ordinals, strings, or None.\n",
            " |      \n",
            " |      The table must implement lookup/indexing via __getitem__, for instance a\n",
            " |      dictionary or list.  If this operation raises LookupError, the character is\n",
            " |      left untouched.  Characters mapped to None are deleted.\n",
            " |  \n",
            " |  upper(self, /)\n",
            " |      Return a copy of the string converted to uppercase.\n",
            " |  \n",
            " |  zfill(self, width, /)\n",
            " |      Pad a numeric string with zeros on the left, to fill a field of the given width.\n",
            " |      \n",
            " |      The string is never truncated.\n",
            " |  \n",
            " |  ----------------------------------------------------------------------\n",
            " |  Static methods defined here:\n",
            " |  \n",
            " |  __new__(*args, **kwargs)\n",
            " |      Create and return a new object.  See help(type) for accurate signature.\n",
            " |  \n",
            " |  maketrans(...)\n",
            " |      Return a translation table usable for str.translate().\n",
            " |      \n",
            " |      If there is only one argument, it must be a dictionary mapping Unicode\n",
            " |      ordinals (integers) or characters to Unicode ordinals, strings or None.\n",
            " |      Character keys will be then converted to ordinals.\n",
            " |      If there are two arguments, they must be strings of equal length, and\n",
            " |      in the resulting dictionary, each character in x will be mapped to the\n",
            " |      character at the same position in y. If there is a third argument, it\n",
            " |      must be a string, whose characters will be mapped to None in the result.\n",
            "\n"
          ]
        }
      ],
      "source": [
        "help(str)"
      ]
    },
    {
      "cell_type": "markdown",
      "id": "f5537cd8",
      "metadata": {
        "id": "f5537cd8"
      },
      "source": [
        "### Attributes: The Variables of an Object\n",
        "\n",
        "Attributes are like the columns in your spreadsheet. Each attribute stores specific data for each record.\n",
        "\n",
        "**Attribute**: A field in a record, defined by its class.\n"
      ]
    },
    {
      "cell_type": "code",
      "execution_count": null,
      "id": "38341fa0",
      "metadata": {
        "id": "38341fa0"
      },
      "outputs": [],
      "source": [
        "class JobPost:\n",
        "    def __init__(self, title, location, salary):\n",
        "        self.title = title  # Attribute\n",
        "        self.location = location  # Attribute\n",
        "        self.salary = salary  # Attribute\n",
        "\n",
        "    def display_info(self):\n",
        "        return print(f\"JOB:       {self.title}\\nLOCATION:  {self.location}\\nSALARY:    ${self.salary:,.0f}\")"
      ]
    },
    {
      "cell_type": "code",
      "execution_count": null,
      "id": "dcd89f8a",
      "metadata": {
        "id": "dcd89f8a"
      },
      "outputs": [],
      "source": [
        "job = JobPost(\"Data Engineer\", \"New York, NY\", 425000)"
      ]
    },
    {
      "cell_type": "code",
      "execution_count": null,
      "id": "fbd5b34d",
      "metadata": {
        "id": "fbd5b34d",
        "outputId": "1cdea9a2-50f7-4e55-a06c-2cbb662e9296"
      },
      "outputs": [
        {
          "data": {
            "text/plain": [
              "'Data Engineer'"
            ]
          },
          "execution_count": 64,
          "metadata": {},
          "output_type": "execute_result"
        }
      ],
      "source": [
        "job.title"
      ]
    },
    {
      "cell_type": "code",
      "execution_count": null,
      "id": "a6ccd019",
      "metadata": {
        "id": "a6ccd019",
        "outputId": "66a8438d-c9a8-4360-cc16-ec508f14ff12"
      },
      "outputs": [
        {
          "data": {
            "text/plain": [
              "425000"
            ]
          },
          "execution_count": 65,
          "metadata": {},
          "output_type": "execute_result"
        }
      ],
      "source": [
        "job.salary"
      ]
    },
    {
      "cell_type": "markdown",
      "id": "87300d79",
      "metadata": {
        "id": "87300d79"
      },
      "source": [
        "### Methods: The Functions of an Object\n",
        "\n",
        "Methods are like the built-in functions in Excel that operate on your records. They define actions that the records can perform.\n",
        "\n",
        "**Method**: A function defined inside a class that operates on its objects.\n"
      ]
    },
    {
      "cell_type": "code",
      "execution_count": null,
      "id": "00414ac1",
      "metadata": {
        "id": "00414ac1",
        "outputId": "6c813161-329c-4d58-dc73-4e581f2801d5"
      },
      "outputs": [
        {
          "name": "stdout",
          "output_type": "stream",
          "text": [
            "JOB:       Data Engineer\n",
            "LOCATION:  New York, NY\n",
            "SALARY:    $425,000\n"
          ]
        }
      ],
      "source": [
        "job = JobPost(\"Data Engineer\", \"New York, NY\", 425000)\n",
        "\n",
        "job.display_info()"
      ]
    }
  ],
  "metadata": {
    "kernelspec": {
      "display_name": "python_course",
      "language": "python",
      "name": "python3"
    },
    "language_info": {
      "codemirror_mode": {
        "name": "ipython",
        "version": 3
      },
      "file_extension": ".py",
      "mimetype": "text/x-python",
      "name": "python",
      "nbconvert_exporter": "python",
      "pygments_lexer": "ipython3",
      "version": "3.11.9"
    },
    "colab": {
      "provenance": []
    }
  },
  "nbformat": 4,
  "nbformat_minor": 5
}