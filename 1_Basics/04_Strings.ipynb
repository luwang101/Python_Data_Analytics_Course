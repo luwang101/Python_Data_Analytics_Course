{
  "cells": [
    {
      "cell_type": "markdown",
      "metadata": {
        "id": "f7502c30"
      },
      "source": [
        "<a target=\"_blank\" href=\"https://colab.research.google.com/github/lukebarousse/Python_Data_Analytics_Course/blob/main/1_Basics/04_Strings.ipynb\">\n",
        "  <img src=\"https://colab.research.google.com/assets/colab-badge.svg\" alt=\"Open In Colab\"/>\n",
        "</a>"
      ]
    },
    {
      "cell_type": "markdown",
      "metadata": {
        "id": "O6Qf-oElqNnW"
      },
      "source": [
        "# Strings"
      ]
    },
    {
      "cell_type": "markdown",
      "metadata": {
        "id": "FeQiS9DcqNnX"
      },
      "source": [
        "## Strings Intro"
      ]
    },
    {
      "cell_type": "code",
      "execution_count": null,
      "metadata": {
        "id": "VCNG-f0CqNnY",
        "outputId": "52e59d42-d2fb-41ba-a2f9-8ee571f2dbc6"
      },
      "outputs": [
        {
          "data": {
            "text/plain": [
              "'This is a string in double quotes'"
            ]
          },
          "execution_count": 2,
          "metadata": {},
          "output_type": "execute_result"
        }
      ],
      "source": [
        "\"This is a string in double quotes\""
      ]
    },
    {
      "cell_type": "code",
      "execution_count": null,
      "metadata": {
        "id": "tJA5n0gOqNnb",
        "outputId": "0a454842-475e-425d-b2d8-53693c20b997"
      },
      "outputs": [
        {
          "data": {
            "text/plain": [
              "'This is a string in single quotes'"
            ]
          },
          "execution_count": 3,
          "metadata": {},
          "output_type": "execute_result"
        }
      ],
      "source": [
        "'This is a string in single quotes'"
      ]
    },
    {
      "cell_type": "markdown",
      "metadata": {
        "id": "E919Z1fuqNnc"
      },
      "source": [
        "##### NOTE: For this course we'll maintain consistency by using `'` single quotes for strings"
      ]
    },
    {
      "cell_type": "code",
      "execution_count": null,
      "metadata": {
        "id": "kKzh1mKkqNnd",
        "outputId": "b7094870-d0ec-4c55-ab2e-0fad69e5d079"
      },
      "outputs": [
        {
          "ename": "SyntaxError",
          "evalue": "invalid syntax (3463593414.py, line 1)",
          "output_type": "error",
          "traceback": [
            "\u001b[0;36m  Cell \u001b[0;32mIn[4], line 1\u001b[0;36m\u001b[0m\n\u001b[0;31m    This is an error because there are no quotes around the string\u001b[0m\n\u001b[0m               ^\u001b[0m\n\u001b[0;31mSyntaxError\u001b[0m\u001b[0;31m:\u001b[0m invalid syntax\n"
          ]
        }
      ],
      "source": [
        "This is an error because there are no quotes around the string"
      ]
    },
    {
      "cell_type": "code",
      "execution_count": null,
      "metadata": {
        "id": "1E6q9EQ2qNne",
        "outputId": "e2cd28ac-af68-4496-88bf-62e5f8bf4285"
      },
      "outputs": [
        {
          "data": {
            "text/plain": [
              "str"
            ]
          },
          "execution_count": 6,
          "metadata": {},
          "output_type": "execute_result"
        }
      ],
      "source": [
        "skill = \"Python\"\n",
        "type(skill)"
      ]
    },
    {
      "cell_type": "markdown",
      "metadata": {
        "id": "nCEx14fHqNnf"
      },
      "source": [
        "#### What are strings methods?"
      ]
    },
    {
      "cell_type": "code",
      "execution_count": null,
      "metadata": {
        "id": "lfVxPFBbqNnf",
        "outputId": "80c2abd7-8f08-4157-ba25-9aabea2be856"
      },
      "outputs": [
        {
          "name": "stdout",
          "output_type": "stream",
          "text": [
            "Help on class str in module builtins:\n",
            "\n",
            "class str(object)\n",
            " |  str(object='') -> str\n",
            " |  str(bytes_or_buffer[, encoding[, errors]]) -> str\n",
            " |  \n",
            " |  Create a new string object from the given object. If encoding or\n",
            " |  errors is specified, then the object must expose a data buffer\n",
            " |  that will be decoded using the given encoding and error handler.\n",
            " |  Otherwise, returns the result of object.__str__() (if defined)\n",
            " |  or repr(object).\n",
            " |  encoding defaults to sys.getdefaultencoding().\n",
            " |  errors defaults to 'strict'.\n",
            " |  \n",
            " |  Methods defined here:\n",
            " |  \n",
            " |  __add__(self, value, /)\n",
            " |      Return self+value.\n",
            " |  \n",
            " |  __contains__(self, key, /)\n",
            " |      Return key in self.\n",
            " |  \n",
            " |  __eq__(self, value, /)\n",
            " |      Return self==value.\n",
            " |  \n",
            " |  __format__(self, format_spec, /)\n",
            " |      Return a formatted version of the string as described by format_spec.\n",
            " |  \n",
            " |  __ge__(self, value, /)\n",
            " |      Return self>=value.\n",
            " |  \n",
            " |  __getattribute__(self, name, /)\n",
            " |      Return getattr(self, name).\n",
            " |  \n",
            " |  __getitem__(self, key, /)\n",
            " |      Return self[key].\n",
            " |  \n",
            " |  __getnewargs__(...)\n",
            " |  \n",
            " |  __gt__(self, value, /)\n",
            " |      Return self>value.\n",
            " |  \n",
            " |  __hash__(self, /)\n",
            " |      Return hash(self).\n",
            " |  \n",
            " |  __iter__(self, /)\n",
            " |      Implement iter(self).\n",
            " |  \n",
            " |  __le__(self, value, /)\n",
            " |      Return self<=value.\n",
            " |  \n",
            " |  __len__(self, /)\n",
            " |      Return len(self).\n",
            " |  \n",
            " |  __lt__(self, value, /)\n",
            " |      Return self<value.\n",
            " |  \n",
            " |  __mod__(self, value, /)\n",
            " |      Return self%value.\n",
            " |  \n",
            " |  __mul__(self, value, /)\n",
            " |      Return self*value.\n",
            " |  \n",
            " |  __ne__(self, value, /)\n",
            " |      Return self!=value.\n",
            " |  \n",
            " |  __repr__(self, /)\n",
            " |      Return repr(self).\n",
            " |  \n",
            " |  __rmod__(self, value, /)\n",
            " |      Return value%self.\n",
            " |  \n",
            " |  __rmul__(self, value, /)\n",
            " |      Return value*self.\n",
            " |  \n",
            " |  __sizeof__(self, /)\n",
            " |      Return the size of the string in memory, in bytes.\n",
            " |  \n",
            " |  __str__(self, /)\n",
            " |      Return str(self).\n",
            " |  \n",
            " |  capitalize(self, /)\n",
            " |      Return a capitalized version of the string.\n",
            " |      \n",
            " |      More specifically, make the first character have upper case and the rest lower\n",
            " |      case.\n",
            " |  \n",
            " |  casefold(self, /)\n",
            " |      Return a version of the string suitable for caseless comparisons.\n",
            " |  \n",
            " |  center(self, width, fillchar=' ', /)\n",
            " |      Return a centered string of length width.\n",
            " |      \n",
            " |      Padding is done using the specified fill character (default is a space).\n",
            " |  \n",
            " |  count(...)\n",
            " |      S.count(sub[, start[, end]]) -> int\n",
            " |      \n",
            " |      Return the number of non-overlapping occurrences of substring sub in\n",
            " |      string S[start:end].  Optional arguments start and end are\n",
            " |      interpreted as in slice notation.\n",
            " |  \n",
            " |  encode(self, /, encoding='utf-8', errors='strict')\n",
            " |      Encode the string using the codec registered for encoding.\n",
            " |      \n",
            " |      encoding\n",
            " |        The encoding in which to encode the string.\n",
            " |      errors\n",
            " |        The error handling scheme to use for encoding errors.\n",
            " |        The default is 'strict' meaning that encoding errors raise a\n",
            " |        UnicodeEncodeError.  Other possible values are 'ignore', 'replace' and\n",
            " |        'xmlcharrefreplace' as well as any other name registered with\n",
            " |        codecs.register_error that can handle UnicodeEncodeErrors.\n",
            " |  \n",
            " |  endswith(...)\n",
            " |      S.endswith(suffix[, start[, end]]) -> bool\n",
            " |      \n",
            " |      Return True if S ends with the specified suffix, False otherwise.\n",
            " |      With optional start, test S beginning at that position.\n",
            " |      With optional end, stop comparing S at that position.\n",
            " |      suffix can also be a tuple of strings to try.\n",
            " |  \n",
            " |  expandtabs(self, /, tabsize=8)\n",
            " |      Return a copy where all tab characters are expanded using spaces.\n",
            " |      \n",
            " |      If tabsize is not given, a tab size of 8 characters is assumed.\n",
            " |  \n",
            " |  find(...)\n",
            " |      S.find(sub[, start[, end]]) -> int\n",
            " |      \n",
            " |      Return the lowest index in S where substring sub is found,\n",
            " |      such that sub is contained within S[start:end].  Optional\n",
            " |      arguments start and end are interpreted as in slice notation.\n",
            " |      \n",
            " |      Return -1 on failure.\n",
            " |  \n",
            " |  format(...)\n",
            " |      S.format(*args, **kwargs) -> str\n",
            " |      \n",
            " |      Return a formatted version of S, using substitutions from args and kwargs.\n",
            " |      The substitutions are identified by braces ('{' and '}').\n",
            " |  \n",
            " |  format_map(...)\n",
            " |      S.format_map(mapping) -> str\n",
            " |      \n",
            " |      Return a formatted version of S, using substitutions from mapping.\n",
            " |      The substitutions are identified by braces ('{' and '}').\n",
            " |  \n",
            " |  index(...)\n",
            " |      S.index(sub[, start[, end]]) -> int\n",
            " |      \n",
            " |      Return the lowest index in S where substring sub is found,\n",
            " |      such that sub is contained within S[start:end].  Optional\n",
            " |      arguments start and end are interpreted as in slice notation.\n",
            " |      \n",
            " |      Raises ValueError when the substring is not found.\n",
            " |  \n",
            " |  isalnum(self, /)\n",
            " |      Return True if the string is an alpha-numeric string, False otherwise.\n",
            " |      \n",
            " |      A string is alpha-numeric if all characters in the string are alpha-numeric and\n",
            " |      there is at least one character in the string.\n",
            " |  \n",
            " |  isalpha(self, /)\n",
            " |      Return True if the string is an alphabetic string, False otherwise.\n",
            " |      \n",
            " |      A string is alphabetic if all characters in the string are alphabetic and there\n",
            " |      is at least one character in the string.\n",
            " |  \n",
            " |  isascii(self, /)\n",
            " |      Return True if all characters in the string are ASCII, False otherwise.\n",
            " |      \n",
            " |      ASCII characters have code points in the range U+0000-U+007F.\n",
            " |      Empty string is ASCII too.\n",
            " |  \n",
            " |  isdecimal(self, /)\n",
            " |      Return True if the string is a decimal string, False otherwise.\n",
            " |      \n",
            " |      A string is a decimal string if all characters in the string are decimal and\n",
            " |      there is at least one character in the string.\n",
            " |  \n",
            " |  isdigit(self, /)\n",
            " |      Return True if the string is a digit string, False otherwise.\n",
            " |      \n",
            " |      A string is a digit string if all characters in the string are digits and there\n",
            " |      is at least one character in the string.\n",
            " |  \n",
            " |  isidentifier(self, /)\n",
            " |      Return True if the string is a valid Python identifier, False otherwise.\n",
            " |      \n",
            " |      Call keyword.iskeyword(s) to test whether string s is a reserved identifier,\n",
            " |      such as \"def\" or \"class\".\n",
            " |  \n",
            " |  islower(self, /)\n",
            " |      Return True if the string is a lowercase string, False otherwise.\n",
            " |      \n",
            " |      A string is lowercase if all cased characters in the string are lowercase and\n",
            " |      there is at least one cased character in the string.\n",
            " |  \n",
            " |  isnumeric(self, /)\n",
            " |      Return True if the string is a numeric string, False otherwise.\n",
            " |      \n",
            " |      A string is numeric if all characters in the string are numeric and there is at\n",
            " |      least one character in the string.\n",
            " |  \n",
            " |  isprintable(self, /)\n",
            " |      Return True if the string is printable, False otherwise.\n",
            " |      \n",
            " |      A string is printable if all of its characters are considered printable in\n",
            " |      repr() or if it is empty.\n",
            " |  \n",
            " |  isspace(self, /)\n",
            " |      Return True if the string is a whitespace string, False otherwise.\n",
            " |      \n",
            " |      A string is whitespace if all characters in the string are whitespace and there\n",
            " |      is at least one character in the string.\n",
            " |  \n",
            " |  istitle(self, /)\n",
            " |      Return True if the string is a title-cased string, False otherwise.\n",
            " |      \n",
            " |      In a title-cased string, upper- and title-case characters may only\n",
            " |      follow uncased characters and lowercase characters only cased ones.\n",
            " |  \n",
            " |  isupper(self, /)\n",
            " |      Return True if the string is an uppercase string, False otherwise.\n",
            " |      \n",
            " |      A string is uppercase if all cased characters in the string are uppercase and\n",
            " |      there is at least one cased character in the string.\n",
            " |  \n",
            " |  join(self, iterable, /)\n",
            " |      Concatenate any number of strings.\n",
            " |      \n",
            " |      The string whose method is called is inserted in between each given string.\n",
            " |      The result is returned as a new string.\n",
            " |      \n",
            " |      Example: '.'.join(['ab', 'pq', 'rs']) -> 'ab.pq.rs'\n",
            " |  \n",
            " |  ljust(self, width, fillchar=' ', /)\n",
            " |      Return a left-justified string of length width.\n",
            " |      \n",
            " |      Padding is done using the specified fill character (default is a space).\n",
            " |  \n",
            " |  lower(self, /)\n",
            " |      Return a copy of the string converted to lowercase.\n",
            " |  \n",
            " |  lstrip(self, chars=None, /)\n",
            " |      Return a copy of the string with leading whitespace removed.\n",
            " |      \n",
            " |      If chars is given and not None, remove characters in chars instead.\n",
            " |  \n",
            " |  partition(self, sep, /)\n",
            " |      Partition the string into three parts using the given separator.\n",
            " |      \n",
            " |      This will search for the separator in the string.  If the separator is found,\n",
            " |      returns a 3-tuple containing the part before the separator, the separator\n",
            " |      itself, and the part after it.\n",
            " |      \n",
            " |      If the separator is not found, returns a 3-tuple containing the original string\n",
            " |      and two empty strings.\n",
            " |  \n",
            " |  removeprefix(self, prefix, /)\n",
            " |      Return a str with the given prefix string removed if present.\n",
            " |      \n",
            " |      If the string starts with the prefix string, return string[len(prefix):].\n",
            " |      Otherwise, return a copy of the original string.\n",
            " |  \n",
            " |  removesuffix(self, suffix, /)\n",
            " |      Return a str with the given suffix string removed if present.\n",
            " |      \n",
            " |      If the string ends with the suffix string and that suffix is not empty,\n",
            " |      return string[:-len(suffix)]. Otherwise, return a copy of the original\n",
            " |      string.\n",
            " |  \n",
            " |  replace(self, old, new, count=-1, /)\n",
            " |      Return a copy with all occurrences of substring old replaced by new.\n",
            " |      \n",
            " |        count\n",
            " |          Maximum number of occurrences to replace.\n",
            " |          -1 (the default value) means replace all occurrences.\n",
            " |      \n",
            " |      If the optional argument count is given, only the first count occurrences are\n",
            " |      replaced.\n",
            " |  \n",
            " |  rfind(...)\n",
            " |      S.rfind(sub[, start[, end]]) -> int\n",
            " |      \n",
            " |      Return the highest index in S where substring sub is found,\n",
            " |      such that sub is contained within S[start:end].  Optional\n",
            " |      arguments start and end are interpreted as in slice notation.\n",
            " |      \n",
            " |      Return -1 on failure.\n",
            " |  \n",
            " |  rindex(...)\n",
            " |      S.rindex(sub[, start[, end]]) -> int\n",
            " |      \n",
            " |      Return the highest index in S where substring sub is found,\n",
            " |      such that sub is contained within S[start:end].  Optional\n",
            " |      arguments start and end are interpreted as in slice notation.\n",
            " |      \n",
            " |      Raises ValueError when the substring is not found.\n",
            " |  \n",
            " |  rjust(self, width, fillchar=' ', /)\n",
            " |      Return a right-justified string of length width.\n",
            " |      \n",
            " |      Padding is done using the specified fill character (default is a space).\n",
            " |  \n",
            " |  rpartition(self, sep, /)\n",
            " |      Partition the string into three parts using the given separator.\n",
            " |      \n",
            " |      This will search for the separator in the string, starting at the end. If\n",
            " |      the separator is found, returns a 3-tuple containing the part before the\n",
            " |      separator, the separator itself, and the part after it.\n",
            " |      \n",
            " |      If the separator is not found, returns a 3-tuple containing two empty strings\n",
            " |      and the original string.\n",
            " |  \n",
            " |  rsplit(self, /, sep=None, maxsplit=-1)\n",
            " |      Return a list of the words in the string, using sep as the delimiter string.\n",
            " |      \n",
            " |        sep\n",
            " |          The delimiter according which to split the string.\n",
            " |          None (the default value) means split according to any whitespace,\n",
            " |          and discard empty strings from the result.\n",
            " |        maxsplit\n",
            " |          Maximum number of splits to do.\n",
            " |          -1 (the default value) means no limit.\n",
            " |      \n",
            " |      Splits are done starting at the end of the string and working to the front.\n",
            " |  \n",
            " |  rstrip(self, chars=None, /)\n",
            " |      Return a copy of the string with trailing whitespace removed.\n",
            " |      \n",
            " |      If chars is given and not None, remove characters in chars instead.\n",
            " |  \n",
            " |  split(self, /, sep=None, maxsplit=-1)\n",
            " |      Return a list of the words in the string, using sep as the delimiter string.\n",
            " |      \n",
            " |      sep\n",
            " |        The delimiter according which to split the string.\n",
            " |        None (the default value) means split according to any whitespace,\n",
            " |        and discard empty strings from the result.\n",
            " |      maxsplit\n",
            " |        Maximum number of splits to do.\n",
            " |        -1 (the default value) means no limit.\n",
            " |  \n",
            " |  splitlines(self, /, keepends=False)\n",
            " |      Return a list of the lines in the string, breaking at line boundaries.\n",
            " |      \n",
            " |      Line breaks are not included in the resulting list unless keepends is given and\n",
            " |      true.\n",
            " |  \n",
            " |  startswith(...)\n",
            " |      S.startswith(prefix[, start[, end]]) -> bool\n",
            " |      \n",
            " |      Return True if S starts with the specified prefix, False otherwise.\n",
            " |      With optional start, test S beginning at that position.\n",
            " |      With optional end, stop comparing S at that position.\n",
            " |      prefix can also be a tuple of strings to try.\n",
            " |  \n",
            " |  strip(self, chars=None, /)\n",
            " |      Return a copy of the string with leading and trailing whitespace removed.\n",
            " |      \n",
            " |      If chars is given and not None, remove characters in chars instead.\n",
            " |  \n",
            " |  swapcase(self, /)\n",
            " |      Convert uppercase characters to lowercase and lowercase characters to uppercase.\n",
            " |  \n",
            " |  title(self, /)\n",
            " |      Return a version of the string where each word is titlecased.\n",
            " |      \n",
            " |      More specifically, words start with uppercased characters and all remaining\n",
            " |      cased characters have lower case.\n",
            " |  \n",
            " |  translate(self, table, /)\n",
            " |      Replace each character in the string using the given translation table.\n",
            " |      \n",
            " |        table\n",
            " |          Translation table, which must be a mapping of Unicode ordinals to\n",
            " |          Unicode ordinals, strings, or None.\n",
            " |      \n",
            " |      The table must implement lookup/indexing via __getitem__, for instance a\n",
            " |      dictionary or list.  If this operation raises LookupError, the character is\n",
            " |      left untouched.  Characters mapped to None are deleted.\n",
            " |  \n",
            " |  upper(self, /)\n",
            " |      Return a copy of the string converted to uppercase.\n",
            " |  \n",
            " |  zfill(self, width, /)\n",
            " |      Pad a numeric string with zeros on the left, to fill a field of the given width.\n",
            " |      \n",
            " |      The string is never truncated.\n",
            " |  \n",
            " |  ----------------------------------------------------------------------\n",
            " |  Static methods defined here:\n",
            " |  \n",
            " |  __new__(*args, **kwargs) from builtins.type\n",
            " |      Create and return a new object.  See help(type) for accurate signature.\n",
            " |  \n",
            " |  maketrans(...)\n",
            " |      Return a translation table usable for str.translate().\n",
            " |      \n",
            " |      If there is only one argument, it must be a dictionary mapping Unicode\n",
            " |      ordinals (integers) or characters to Unicode ordinals, strings or None.\n",
            " |      Character keys will be then converted to ordinals.\n",
            " |      If there are two arguments, they must be strings of equal length, and\n",
            " |      in the resulting dictionary, each character in x will be mapped to the\n",
            " |      character at the same position in y. If there is a third argument, it\n",
            " |      must be a string, whose characters will be mapped to None in the result.\n",
            "\n"
          ]
        }
      ],
      "source": [
        "help(str)"
      ]
    },
    {
      "cell_type": "markdown",
      "metadata": {
        "id": "PqSNDBCdqNng"
      },
      "source": [
        "### Regular Methods"
      ]
    },
    {
      "cell_type": "code",
      "execution_count": null,
      "metadata": {
        "id": "tRItsPchqNnh",
        "outputId": "ceb74d7d-45bb-427b-940b-338e58356d18"
      },
      "outputs": [
        {
          "data": {
            "text/plain": [
              "'PYTHON'"
            ]
          },
          "execution_count": 8,
          "metadata": {},
          "output_type": "execute_result"
        }
      ],
      "source": [
        "skill.upper()"
      ]
    },
    {
      "cell_type": "code",
      "execution_count": null,
      "metadata": {
        "id": "QoxW6KabqNni",
        "outputId": "2933e7d3-f532-4639-b33a-025e776ecc77"
      },
      "outputs": [
        {
          "data": {
            "text/plain": [
              "'python'"
            ]
          },
          "execution_count": 9,
          "metadata": {},
          "output_type": "execute_result"
        }
      ],
      "source": [
        "skill.lower()"
      ]
    },
    {
      "cell_type": "markdown",
      "metadata": {
        "id": "A2GkzaMJqNnj"
      },
      "source": [
        "#### Postional Arguments\n",
        "Sometimes methods take arguments:"
      ]
    },
    {
      "cell_type": "code",
      "execution_count": null,
      "metadata": {
        "id": "G6qNqF9aqNnj",
        "outputId": "86a0fd0d-052d-40f1-9b2d-49457e2919ef"
      },
      "outputs": [
        {
          "data": {
            "text/plain": [
              "'Jython'"
            ]
          },
          "execution_count": 23,
          "metadata": {},
          "output_type": "execute_result"
        }
      ],
      "source": [
        "skill.replace(\"P\", \"J\")"
      ]
    },
    {
      "cell_type": "markdown",
      "metadata": {
        "id": "6KaD0UG7qNnj"
      },
      "source": [
        "#### Keyword Arguments"
      ]
    },
    {
      "cell_type": "code",
      "execution_count": null,
      "metadata": {
        "id": "Lhsjx3TXqNnk",
        "outputId": "039d476b-205c-4e61-bbc4-926fa258bd03"
      },
      "outputs": [
        {
          "data": {
            "text/plain": [
              "['Data', 'Analyst']"
            ]
          },
          "execution_count": 24,
          "metadata": {},
          "output_type": "execute_result"
        }
      ],
      "source": [
        "job_title = \"Data Analyst\"\n",
        "\n",
        "job_title.split(sep=\" \", maxsplit=1)"
      ]
    },
    {
      "cell_type": "markdown",
      "metadata": {
        "id": "DmbOp8MCqNnk"
      },
      "source": [
        "#### Magic Methods (aka Dunder Methods)\n",
        "\n",
        " **Dunder methods** (short for \"double underscore methods\") are special functions that override behavior for Python objects.\n",
        "\n",
        " ##### Adding"
      ]
    },
    {
      "cell_type": "code",
      "execution_count": null,
      "metadata": {
        "id": "wuE72_DRqNnl",
        "outputId": "9b560981-413d-4193-95cf-7be34028b82d"
      },
      "outputs": [
        {
          "data": {
            "text/plain": [
              "'Data Analyst'"
            ]
          },
          "execution_count": 15,
          "metadata": {},
          "output_type": "execute_result"
        }
      ],
      "source": [
        "# don't write code like this... this is just to show the dunder method\n",
        "str.__add__(\"Data\", \" Analyst\")"
      ]
    },
    {
      "cell_type": "code",
      "execution_count": null,
      "metadata": {
        "id": "KJt3pPdAqNnl",
        "outputId": "892460fe-6df9-4728-9a49-663d5a61a25a"
      },
      "outputs": [
        {
          "data": {
            "text/plain": [
              "'Data Analyst'"
            ]
          },
          "execution_count": 17,
          "metadata": {},
          "output_type": "execute_result"
        }
      ],
      "source": [
        "# still not Pythonic to write it this way, to invoke a method\n",
        "\"Data\".__add__(\" Analyst\")"
      ]
    },
    {
      "cell_type": "markdown",
      "source": [
        "![image.png](data:image/png;base64,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)"
      ],
      "metadata": {
        "id": "-JITiAGIqYb-"
      }
    },
    {
      "cell_type": "markdown",
      "metadata": {
        "id": "-y9UQGtUqNnm"
      },
      "source": [
        "Dunder methods are sometimes overridden by operators; such as in this case `+`"
      ]
    },
    {
      "cell_type": "code",
      "execution_count": null,
      "metadata": {
        "id": "iVQYva9lqNnm",
        "outputId": "6254dd06-63d5-4f80-c9c7-9ed980d90e29"
      },
      "outputs": [
        {
          "data": {
            "text/plain": [
              "'Data Analyst'"
            ]
          },
          "execution_count": 19,
          "metadata": {},
          "output_type": "execute_result"
        }
      ],
      "source": [
        "# This is how you should use the __add__() method\n",
        "\"Data\" + \" Analyst\""
      ]
    },
    {
      "cell_type": "markdown",
      "metadata": {
        "id": "9VIoV-wNqNnm"
      },
      "source": [
        "#### Length\n",
        "\n",
        "Not all magic method use operators(e.g., `+`), some use other functions like `len()`."
      ]
    },
    {
      "cell_type": "markdown",
      "source": [],
      "metadata": {
        "id": "9eZLK4ThrTEx"
      }
    },
    {
      "cell_type": "code",
      "source": [
        "'data analyst'*10"
      ],
      "metadata": {
        "id": "FxF07slarHm8",
        "outputId": "e298f4a6-16e6-4851-8049-029a4ec89412",
        "colab": {
          "base_uri": "https://localhost:8080/",
          "height": 35
        }
      },
      "execution_count": null,
      "outputs": [
        {
          "output_type": "execute_result",
          "data": {
            "text/plain": [
              "'data analystdata analystdata analystdata analystdata analystdata analystdata analystdata analystdata analystdata analyst'"
            ],
            "application/vnd.google.colaboratory.intrinsic+json": {
              "type": "string"
            }
          },
          "metadata": {},
          "execution_count": 1
        }
      ]
    },
    {
      "cell_type": "code",
      "execution_count": null,
      "metadata": {
        "id": "l3dOOUy3qNnm",
        "outputId": "d9b9db9a-3158-41de-c784-b621c2ebaa4b"
      },
      "outputs": [
        {
          "data": {
            "text/plain": [
              "6"
            ]
          },
          "execution_count": 20,
          "metadata": {},
          "output_type": "execute_result"
        }
      ],
      "source": [
        "skill = \"Python\"\n",
        "\n",
        "# once again, don't write code this way, this is for demonstrations only:\n",
        "skill.__len__()"
      ]
    },
    {
      "cell_type": "code",
      "execution_count": null,
      "metadata": {
        "id": "A8QrnTyRqNnn",
        "outputId": "21db077b-b040-41ea-8be5-5ac57cfa5812"
      },
      "outputs": [
        {
          "data": {
            "text/plain": [
              "6"
            ]
          },
          "execution_count": 22,
          "metadata": {},
          "output_type": "execute_result"
        }
      ],
      "source": [
        "# instead this is how to invoke the .__len__() method:\n",
        "len(skill)"
      ]
    }
  ],
  "metadata": {
    "kernelspec": {
      "display_name": "venv1",
      "language": "python",
      "name": "python3"
    },
    "language_info": {
      "codemirror_mode": {
        "name": "ipython",
        "version": 3
      },
      "file_extension": ".py",
      "mimetype": "text/x-python",
      "name": "python",
      "nbconvert_exporter": "python",
      "pygments_lexer": "ipython3",
      "version": "3.9.19"
    },
    "colab": {
      "provenance": []
    }
  },
  "nbformat": 4,
  "nbformat_minor": 0
}