{
  "cells": [
    {
      "cell_type": "markdown",
      "metadata": {
        "id": "3807b651"
      },
      "source": [
        "<a target=\"_blank\" href=\"https://colab.research.google.com/github/lukebarousse/Python_Data_Analytics_Course/blob/main/1_Basics/07_Conditional_Statements.ipynb\">\n",
        "  <img src=\"https://colab.research.google.com/assets/colab-badge.svg\" alt=\"Open In Colab\"/>\n",
        "</a>"
      ]
    },
    {
      "cell_type": "markdown",
      "metadata": {
        "id": "9iMQhePeiesU"
      },
      "source": [
        "# Conditional Statements"
      ]
    },
    {
      "cell_type": "markdown",
      "metadata": {
        "id": "obg0suY2-WYn"
      },
      "source": [
        "## Overview\n",
        "\n",
        "### Notes\n",
        "\n",
        "`if`, `elif`, and `else` are conditional statements that control the flow of execution based on whether a condition is `True` or `False`.\n",
        "\n",
        "| Part       | Purpose                           | Condition Evaluated             | Action if True                 |\n",
        "|------------|-----------------------------------|---------------------------------|--------------------------------|\n",
        "| `if`       | First condition check             | First condition to be evaluated | Executes block if condition is true |\n",
        "| `elif`     | Subsequent condition check        | Next condition, if `if` is false| Executes block if this condition is true |\n",
        "| `else`     | Fallback if no conditions are met | None | Executes block if all above conditions are false |\n"
      ]
    },
    {
      "cell_type": "code",
      "execution_count": null,
      "metadata": {
        "id": "g2qjIybd-WYo",
        "outputId": "a1cbfbb2-a3fc-43f7-a291-e8496fa9fad4"
      },
      "outputs": [
        {
          "name": "stdout",
          "output_type": "stream",
          "text": [
            "What's Up Data Nerd\n"
          ]
        }
      ],
      "source": [
        "if True:\n",
        "    print(\"What's Up Data Nerd\")"
      ]
    },
    {
      "cell_type": "markdown",
      "metadata": {
        "id": "wRm2FxGD-WYq"
      },
      "source": [
        "Here's another example that if the first condition is `False`. Then let's do something else."
      ]
    },
    {
      "cell_type": "code",
      "execution_count": null,
      "metadata": {
        "id": "b6hRIgHi-WYq",
        "outputId": "fe6e302d-e983-450a-db4f-d68c87312eb2"
      },
      "outputs": [
        {
          "name": "stdout",
          "output_type": "stream",
          "text": [
            "What's up Data Nerd\n"
          ]
        }
      ],
      "source": [
        "if False:\n",
        "    print(\"Hey Data Nerd\")\n",
        "else:\n",
        "    print(\"What's up Data Nerd\")"
      ]
    },
    {
      "cell_type": "markdown",
      "metadata": {
        "id": "nmdh8iD9w_JU"
      },
      "source": [
        "## If\n",
        "\n",
        "### Notes\n",
        "\n",
        "`if`:  Evaluates a condition. If the condition is true, the block of code under the if statement executes. If the condition is false, it skips this block.\n",
        "\n",
        "### Example\n",
        "\n",
        "Let's see if our skill matches with a jobs required skills. We'll use one variable to represent the applicant's skill and another to represent the skill required for the job. Then we compare these variables using an if statement, to determine if the  desired job matches the available job posting.\n",
        "\n",
        "First we will define a few variables:\n",
        "* The skill the applicant has is stored in the variable `applicant_skill`.\n",
        "* The skill required for the job posting is stored in the variable `job_skill`.\n",
        "* Initially, the `result` variable is set to indicate that there's no suitable job posting for the skills the applicant has.\n",
        "\n",
        "Explanation:\n",
        "* The code checks the desired applicant's skill matches the required skill for the data analyst job posting using an if statement.\n",
        "* If there is a match, the `result` variable is updated to indicate that the skill matches.\n",
        "* Finally, the result is printed out."
      ]
    },
    {
      "cell_type": "code",
      "execution_count": null,
      "metadata": {
        "id": "rNj56lxy-WYr"
      },
      "outputs": [],
      "source": [
        "# Applicant skill\n",
        "applicant_skill = 'SQL'\n",
        "\n",
        "# Skill required for job posting\n",
        "job_skill = 'SQL'\n",
        "\n",
        "# Initialize result: assigning a default value to indicate the search status for the skill.\n",
        "result = 'No Skills Match'"
      ]
    },
    {
      "cell_type": "markdown",
      "metadata": {
        "id": "ByjybBLGQXcw"
      },
      "source": [
        "🪲 **Debugging**\n",
        "\n",
        "**This is an intentional mistake**\n",
        "\n",
        "This is used to demonstrate debugging.\n",
        "\n",
        "Error: Using the wrong opertor `=` for a checking a condition\n",
        "\n",
        "```python\n",
        "if applicant_skill = job_skill:\n",
        "```\n",
        "\n",
        "Steps to Debug:\n",
        "\n",
        "1. Look at the actual error, can you tell what the problem is?\n",
        "2. If not, then look it up paste in a Chatbot like ChatGPT or Claude"
      ]
    },
    {
      "cell_type": "code",
      "execution_count": null,
      "metadata": {
        "colab": {
          "base_uri": "https://localhost:8080/",
          "height": 106
        },
        "id": "sTBB8YStRGze",
        "outputId": "f174d419-facf-4eb3-a7d5-df7885386997"
      },
      "outputs": [
        {
          "ename": "SyntaxError",
          "evalue": "invalid syntax (3531373119.py, line 2)",
          "output_type": "error",
          "traceback": [
            "\u001b[0;36m  Cell \u001b[0;32mIn[21], line 2\u001b[0;36m\u001b[0m\n\u001b[0;31m    if applicant_skill = job_skill:\u001b[0m\n\u001b[0m                       ^\u001b[0m\n\u001b[0;31mSyntaxError\u001b[0m\u001b[0;31m:\u001b[0m invalid syntax\n"
          ]
        }
      ],
      "source": [
        "# Check if the desired applicant skill matches the required skill for the job.\n",
        "if applicant_skill = job_skill:\n",
        "    result = 'Skills Match!'\n",
        "\n",
        "# Print the result\n",
        "result"
      ]
    },
    {
      "cell_type": "markdown",
      "metadata": {
        "id": "xlmJEnLMQunj"
      },
      "source": [
        "This is the correct code ✅."
      ]
    },
    {
      "cell_type": "code",
      "execution_count": null,
      "metadata": {
        "colab": {
          "base_uri": "https://localhost:8080/"
        },
        "id": "29QAnA29w_9O",
        "outputId": "96947414-e6fc-4653-a1cd-e46f609c8865"
      },
      "outputs": [
        {
          "data": {
            "text/plain": [
              "'Skill Matches'"
            ]
          },
          "execution_count": 7,
          "metadata": {},
          "output_type": "execute_result"
        }
      ],
      "source": [
        "# Check if the desired applicant skill matches the required skill for the job.\n",
        "if applicant_skill == job_skill:\n",
        "    result = 'Skill Match!'\n",
        "\n",
        "# Print the result (print(\"Skill Matches\"))\n",
        "result"
      ]
    },
    {
      "cell_type": "markdown",
      "metadata": {
        "id": "4LSwdJHPw737"
      },
      "source": [
        "## Elif\n",
        "\n",
        "### Notes\n",
        "\n",
        " * `Elif`: Follows an if or another elif statement. It's saying \"if the previous conditions were not true, then try this condition\". Or if the elif condition is true, its block executes.\n",
        "\n",
        "### Example\n",
        "\n",
        "Now we're also going to add in a variable that will have the years of experience of Python someone has.\n",
        "\n",
        "* `years_experience` which is the years of experience that the applicant has for their skill (`applicant_skill`)\n",
        "\n",
        "Explanation:\n",
        "* Checks if `applicant_skill` matches `job_skill` and if the specific conditions based on `years_experience`:\n",
        "   * Using `if` see if it's less than 2 years of experience with the skill, then it shows a Junior Data Analyst position.\n",
        "   * Using `elif` see if it's 2 to 5 years of experience with the skill, then it shows a Mid-level Data Analyst position.\n",
        "   * Using `elif` see if it's more than 5 years of experience with the skill, then it shows Senior Data Analyst position.\n",
        "* Updates the `result` variable to reflect the matching job level.\n",
        "* Outputs the final result."
      ]
    },
    {
      "cell_type": "code",
      "execution_count": null,
      "metadata": {
        "id": "opjucPYa-WYu"
      },
      "outputs": [],
      "source": [
        "# Your details\n",
        "years_experience = 3  # An integer representing how many years of experience you have"
      ]
    },
    {
      "cell_type": "code",
      "execution_count": null,
      "metadata": {
        "colab": {
          "base_uri": "https://localhost:8080/"
        },
        "id": "sIhwZXgzwuld",
        "outputId": "a42e4556-5fab-465b-99f5-20bef580c1c9"
      },
      "outputs": [
        {
          "data": {
            "text/plain": [
              "'Mid-level Data Analyst position.'"
            ]
          },
          "execution_count": 13,
          "metadata": {},
          "output_type": "execute_result"
        }
      ],
      "source": [
        "# Check if your desired job skill matches the required skill and what position you can apply for based on your years of experience.\n",
        "if applicant_skill == job_skill and years_experience < 2:\n",
        "    result = 'Junior Data Analyst position.'\n",
        "elif applicant_skill == job_skill and years_experience <= 5:\n",
        "    result = 'Mid-level Data Analyst position.'\n",
        "elif applicant_skill == job_skill and years_experience > 5:\n",
        "    result = 'Senior Data Analyst position.'\n",
        "\n",
        "# Print the result to see which Data Analyst position matches your qualifications\n",
        "result"
      ]
    },
    {
      "cell_type": "markdown",
      "metadata": {
        "id": "TuFx2cRNwvVw"
      },
      "source": [
        "## Else\n",
        "\n",
        "### Notes\n",
        "\n",
        "`Else` runs if anything before it doesn't run.\n",
        "\n",
        "### Example\n",
        "\n",
        "Explanation:\n",
        "* Checks if `applicant_skill` matches `job_skill` and if the specific conditions based on `years_experience`:\n",
        "  * Must have at least 2 years of experience (`years_experience >= 2`).\n",
        "* If the condition is met, updates the `result` variable to indicate that the experience and skill matches the requirements for the Data Analyst position.\n",
        "* If the condition is *not* met, updates `result` to check the qualifications or the required skill for the Data Analyst position.\n",
        "* Prints the result."
      ]
    },
    {
      "cell_type": "code",
      "execution_count": null,
      "metadata": {
        "colab": {
          "base_uri": "https://localhost:8080/"
        },
        "id": "ZDzMPMmrALxD",
        "outputId": "463224b9-c4c7-41ff-863b-caacd0b8ec18"
      },
      "outputs": [
        {
          "data": {
            "text/plain": [
              "'Skill & Experience Match'"
            ]
          },
          "execution_count": 15,
          "metadata": {},
          "output_type": "execute_result"
        }
      ],
      "source": [
        "# Check if your desired job skill matches the required skill and if you are qualified for the position.\n",
        "if applicant_skill == job_skill and (years_experience >= 2):\n",
        "    result = 'Skill & Experience Match'\n",
        "else:\n",
        "    result = 'No Match Found'\n",
        "\n",
        "# Print the result to inform you of the outcome of your job search\n",
        "result"
      ]
    },
    {
      "cell_type": "markdown",
      "metadata": {
        "id": "NM5K6BQq-WYu"
      },
      "source": [
        "## Pass\n",
        "\n",
        "### Notes\n",
        "\n",
        "* If statements can't be empty, but if you have an `if` statement with nothing in it, you can use `pass` to avoid getting an error.\n",
        "\n",
        "### Example\n",
        "\n",
        "* We create an `if` statement\n",
        "* Use pass within the statement, so it doesn't run an error"
      ]
    },
    {
      "cell_type": "code",
      "execution_count": null,
      "metadata": {
        "id": "YD-Du5jw-WYv",
        "outputId": "9256485c-6055-4011-afdb-e1710b9f7546"
      },
      "outputs": [
        {
          "ename": "IndentationError",
          "evalue": "expected an indented block (958626211.py, line 2)",
          "output_type": "error",
          "traceback": [
            "\u001b[0;36m  Cell \u001b[0;32mIn[11], line 2\u001b[0;36m\u001b[0m\n\u001b[0;31m    if applicant_skill == job_skill:\u001b[0m\n\u001b[0m                                    ^\u001b[0m\n\u001b[0;31mIndentationError\u001b[0m\u001b[0;31m:\u001b[0m expected an indented block\n"
          ]
        }
      ],
      "source": [
        "# Without a pass it will return an error\n",
        "if applicant_skill == job_skill:\n"
      ]
    },
    {
      "cell_type": "code",
      "execution_count": null,
      "metadata": {
        "id": "s6v27r5a-WYv"
      },
      "outputs": [],
      "source": [
        "# With a pass it won't return an error\n",
        "if applicant_skill == job_skill:\n",
        "    pass"
      ]
    },
    {
      "cell_type": "markdown",
      "metadata": {
        "id": "Y7T6TSHAxFAb"
      },
      "source": [
        "## If, Elif, Else\n",
        "\n",
        "### Notes\n",
        "\n",
        "* We can use `if`, `elif`, and `else` all together.\n",
        "* You can also have logical operators (e.g. `and`, `or`, `not`) which are used to combine conditional statements.\n",
        "\n",
        "### Code Explanation\n",
        "\n",
        "* Checks if the applicant's desired job does not match the available job posting. If this is true:\n",
        "  * Updates the result variable to suggest the applicant check the job position they are applying for or improve their Python skills.\n",
        "* If the desired job matches the job posting but has less than 2 years of experience:\n",
        "  * Updates the result to indicate that more experience may be needed to qualify for the Data Analyst position.\n",
        "* If none of the above conditions are met:\n",
        "  * Updates the result to show that the applicant's experience matches the requirements for the Data Analyst position.\n",
        "* Prints the result."
      ]
    },
    {
      "cell_type": "markdown",
      "metadata": {
        "id": "OF-Lku6RR1-e"
      },
      "source": [
        "🪲 **Debugging**\n",
        "\n",
        "**This is an intentional mistake**\n",
        "\n",
        "This is used to demonstrate debugging.\n",
        "\n",
        "Error: Misspelled the variable `job_skill` in the `if` statement.\n",
        "\n",
        "```python\n",
        "if applicant_skill != job_skil:\n",
        "```\n",
        "\n",
        "Steps to Debug:\n",
        "\n",
        "1. Look at the actual error, can you tell what the problem is?\n",
        "2. If not, then look it up:\n",
        "  1. Use a chatbot like ChatGPT or Claude\n",
        "  2. Look it up using Google\n",
        "\n"
      ]
    },
    {
      "cell_type": "code",
      "execution_count": null,
      "metadata": {
        "colab": {
          "base_uri": "https://localhost:8080/",
          "height": 106
        },
        "id": "lS27ARnwSBdc",
        "outputId": "5f74d786-7aab-4b2c-83d3-3201652d5ee9"
      },
      "outputs": [
        {
          "ename": "NameError",
          "evalue": "name 'job_skil' is not defined",
          "output_type": "error",
          "traceback": [
            "\u001b[0;31m---------------------------------------------------------------------------\u001b[0m",
            "\u001b[0;31mNameError\u001b[0m                                 Traceback (most recent call last)",
            "Cell \u001b[0;32mIn[16], line 2\u001b[0m\n\u001b[1;32m      1\u001b[0m \u001b[38;5;66;03m# Check if the applicant's skill matches the required skill of the job posting and they meet the experience requirement. \u001b[39;00m\n\u001b[0;32m----> 2\u001b[0m \u001b[38;5;28;01mif\u001b[39;00m applicant_skill \u001b[38;5;241m!=\u001b[39m \u001b[43mjob_skil\u001b[49m:\n\u001b[1;32m      3\u001b[0m     result \u001b[38;5;241m=\u001b[39m \u001b[38;5;124m'\u001b[39m\u001b[38;5;124mSkills still needed\u001b[39m\u001b[38;5;124m'\u001b[39m\n\u001b[1;32m      4\u001b[0m \u001b[38;5;28;01melif\u001b[39;00m applicant_skill\u001b[38;5;241m==\u001b[39m job_skill \u001b[38;5;129;01mand\u001b[39;00m years_experience \u001b[38;5;241m<\u001b[39m \u001b[38;5;241m2\u001b[39m:\n",
            "\u001b[0;31mNameError\u001b[0m: name 'job_skil' is not defined"
          ]
        }
      ],
      "source": [
        "# Check if the applicant's skill matches the required skill of the job posting and they meet the experience requirement.\n",
        "if applicant_skill != job_skil:\n",
        "    result = 'Skills still needed'\n",
        "elif applicant_skill== job_skill and years_experience < 2:\n",
        "    result = 'More experience needed'\n",
        "else:\n",
        "    result = 'Experience matches!'\n",
        "\n",
        "# Print the result\n",
        "result"
      ]
    },
    {
      "cell_type": "markdown",
      "metadata": {
        "id": "QiCev1NCSBx8"
      },
      "source": [
        "This is the correct code ✅."
      ]
    },
    {
      "cell_type": "code",
      "execution_count": null,
      "metadata": {
        "colab": {
          "base_uri": "https://localhost:8080/"
        },
        "id": "MknARyJljsHd",
        "outputId": "2eba170c-2057-47de-efdd-06e74f69812f"
      },
      "outputs": [
        {
          "data": {
            "text/plain": [
              "'Experience matches!'"
            ]
          },
          "execution_count": 18,
          "metadata": {},
          "output_type": "execute_result"
        }
      ],
      "source": [
        "# Check if the applicant's skill matches the required skill of the job posting and they meet the experience requirement.\n",
        "if applicant_skill != job_skill:\n",
        "    result = 'Skills still needed'\n",
        "elif applicant_skill== job_skill and years_experience < 2:\n",
        "    result = 'More experience needed'\n",
        "else:\n",
        "    result = 'Experience matches!'\n",
        "\n",
        "# Print the result\n",
        "result"
      ]
    }
  ],
  "metadata": {
    "colab": {
      "provenance": []
    },
    "kernelspec": {
      "display_name": "Python 3",
      "name": "python3"
    },
    "language_info": {
      "codemirror_mode": {
        "name": "ipython",
        "version": 3
      },
      "file_extension": ".py",
      "mimetype": "text/x-python",
      "name": "python",
      "nbconvert_exporter": "python",
      "pygments_lexer": "ipython3",
      "version": "3.11.9"
    }
  },
  "nbformat": 4,
  "nbformat_minor": 0
}